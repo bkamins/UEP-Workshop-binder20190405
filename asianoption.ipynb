{
 "cells": [
  {
   "cell_type": "markdown",
   "metadata": {},
   "source": [
    "# Bogumił Kamiński, 2019-03-25"
   ]
  },
  {
   "cell_type": "code",
   "execution_count": 1,
   "metadata": {},
   "outputs": [],
   "source": [
    "using Statistics, Distributions"
   ]
  },
  {
   "cell_type": "code",
   "execution_count": 2,
   "metadata": {},
   "outputs": [
    {
     "data": {
      "text/plain": [
       "v_asian_sample1 (generic function with 1 method)"
      ]
     },
     "execution_count": 2,
     "metadata": {},
     "output_type": "execute_result"
    }
   ],
   "source": [
    "function v_asian_sample1(T, r, K, σ, X₀, m)\n",
    "    X = X₀\n",
    "    hatx = zero(X)\n",
    "    Δ = T / m\n",
    "    for i in 1:m\n",
    "        X *= exp((r-σ^2/2)*Δ + σ*√Δ*randn())\n",
    "        hatx += X\n",
    "    end\n",
    "    exp(-r*T)*max(hatx/m - K, 0)\n",
    "end"
   ]
  },
  {
   "cell_type": "code",
   "execution_count": 3,
   "metadata": {},
   "outputs": [
    {
     "data": {
      "text/plain": [
       "v_asian_sample2 (generic function with 1 method)"
      ]
     },
     "execution_count": 3,
     "metadata": {},
     "output_type": "execute_result"
    }
   ],
   "source": [
    "function v_asian_sample2(T, r, K, σ, X₀, m)\n",
    "    Δ = T / m\n",
    "    X = rand(Normal((r-σ^2/2)*Δ, σ*√Δ), m)\n",
    "    exp(-r*T)*max(mean(exp.(cumsum(X))) * X₀ - K, 0)\n",
    "end"
   ]
  },
  {
   "cell_type": "code",
   "execution_count": 4,
   "metadata": {},
   "outputs": [
    {
     "data": {
      "text/plain": [
       "v_asian (generic function with 1 method)"
      ]
     },
     "execution_count": 4,
     "metadata": {},
     "output_type": "execute_result"
    }
   ],
   "source": [
    "function v_asian(T, r, K, σ, X₀, m, n, sampler)\n",
    "    mean(sampler(T, r, K, σ, X₀, m) for i in 1:n)\n",
    "end"
   ]
  },
  {
   "cell_type": "code",
   "execution_count": 5,
   "metadata": {},
   "outputs": [
    {
     "name": "stdout",
     "output_type": "stream",
     "text": [
      "2.0221228049592628\n",
      "  2.457451 seconds (515.92 k allocations: 26.274 MiB, 0.26% gc time)\n",
      "2.016507048382661\n",
      "  5.795298 seconds (652.56 k allocations: 2.266 GiB, 11.96% gc time)\n"
     ]
    }
   ],
   "source": [
    "for f in [v_asian_sample1, v_asian_sample2]\n",
    "    @time println(v_asian(1.0, 0.05, 55.0, 0.3, 50.0, 10_000, 10_000, f))\n",
    "end"
   ]
  }
 ],
 "metadata": {
  "kernelspec": {
   "display_name": "Julia 1.1.0",
   "language": "julia",
   "name": "julia-1.1"
  },
  "language_info": {
   "file_extension": ".jl",
   "mimetype": "application/julia",
   "name": "julia",
   "version": "1.1.0"
  }
 },
 "nbformat": 4,
 "nbformat_minor": 2
}
