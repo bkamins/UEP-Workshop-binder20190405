{
 "cells": [
  {
   "cell_type": "markdown",
   "metadata": {},
   "source": [
    "# Bogumił Kamiński, 2019-03-25\n",
    "\n",
    "This code solves Project Euler Problem 96"
   ]
  },
  {
   "cell_type": "code",
   "execution_count": 1,
   "metadata": {},
   "outputs": [
    {
     "data": {
      "text/plain": [
       "blockvalid (generic function with 1 method)"
      ]
     },
     "execution_count": 1,
     "metadata": {},
     "output_type": "execute_result"
    }
   ],
   "source": [
    "blockvalid(x, v) = count(isequal(v), x) ≤ 1"
   ]
  },
  {
   "cell_type": "code",
   "execution_count": 2,
   "metadata": {},
   "outputs": [
    {
     "data": {
      "text/plain": [
       "backtrack! (generic function with 1 method)"
      ]
     },
     "execution_count": 2,
     "metadata": {},
     "output_type": "execute_result"
    }
   ],
   "source": [
    "function backtrack!(x)\n",
    "    pos = findfirst(isequal(0), x)\n",
    "    isa(pos, Nothing) && return true\n",
    "    iloc = 3div(pos[1]-1, 3) .+ (1:3)\n",
    "    jloc = 3div(pos[2]-1, 3) .+ (1:3)\n",
    "    for k in 1:9\n",
    "        x[pos] = k\n",
    "        blockvalid(view(x, pos[1], :), k) || continue\n",
    "        blockvalid(view(x, :, pos[2]), k) || continue\n",
    "        blockvalid(view(x, iloc, jloc), k) || continue\n",
    "        backtrack!(x) && return true\n",
    "    end\n",
    "    x[pos] = 0\n",
    "    return false\n",
    "end"
   ]
  },
  {
   "cell_type": "code",
   "execution_count": 3,
   "metadata": {},
   "outputs": [
    {
     "data": {
      "text/plain": [
       "sudoku_solve (generic function with 1 method)"
      ]
     },
     "execution_count": 3,
     "metadata": {},
     "output_type": "execute_result"
    }
   ],
   "source": [
    "function sudoku_solve(lines, idx)\n",
    "    t = [lines[10idx-j][k] - '0' for j in 8:-1:0, k in 1:9]\n",
    "    backtrack!(t)\n",
    "    v = sum([100, 10, 1] .* t[1, 1:3])\n",
    "    println(lines[10idx-9], \":\\t\", v)\n",
    "    v\n",
    "end"
   ]
  },
  {
   "cell_type": "code",
   "execution_count": 4,
   "metadata": {},
   "outputs": [
    {
     "data": {
      "text/plain": [
       "solve_all (generic function with 1 method)"
      ]
     },
     "execution_count": 4,
     "metadata": {},
     "output_type": "execute_result"
    }
   ],
   "source": [
    "function solve_all()\n",
    "    lines = readlines(\"p096_sudoku.txt\")\n",
    "    sum(sudoku_solve(lines, i) for i in 1:50)\n",
    "end"
   ]
  },
  {
   "cell_type": "code",
   "execution_count": 5,
   "metadata": {},
   "outputs": [
    {
     "name": "stdout",
     "output_type": "stream",
     "text": [
      "Grid 01:\t483\n",
      "Grid 02:\t245\n",
      "Grid 03:\t462\n",
      "Grid 04:\t137\n",
      "Grid 05:\t523\n",
      "Grid 06:\t176\n",
      "Grid 07:\t143\n",
      "Grid 08:\t487\n",
      "Grid 09:\t814\n",
      "Grid 10:\t761\n",
      "Grid 11:\t976\n",
      "Grid 12:\t962\n",
      "Grid 13:\t397\n",
      "Grid 14:\t639\n",
      "Grid 15:\t697\n",
      "Grid 16:\t361\n",
      "Grid 17:\t359\n",
      "Grid 18:\t786\n",
      "Grid 19:\t743\n",
      "Grid 20:\t782\n",
      "Grid 21:\t428\n",
      "Grid 22:\t425\n",
      "Grid 23:\t348\n",
      "Grid 24:\t124\n",
      "Grid 25:\t361\n",
      "Grid 26:\t581\n",
      "Grid 27:\t387\n",
      "Grid 28:\t345\n",
      "Grid 29:\t235\n",
      "Grid 30:\t298\n",
      "Grid 31:\t761\n",
      "Grid 32:\t132\n",
      "Grid 33:\t698\n",
      "Grid 34:\t852\n",
      "Grid 35:\t453\n",
      "Grid 36:\t516\n",
      "Grid 37:\t945\n",
      "Grid 38:\t365\n",
      "Grid 39:\t134\n",
      "Grid 40:\t193\n",
      "Grid 41:\t814\n",
      "Grid 42:\t384\n",
      "Grid 43:\t469\n",
      "Grid 44:\t316\n",
      "Grid 45:\t586\n",
      "Grid 46:\t954\n",
      "Grid 47:\t159\n",
      "Grid 48:\t861\n",
      "Grid 49:\t294\n",
      "Grid 50:\t351\n"
     ]
    },
    {
     "data": {
      "text/plain": [
       "24702"
      ]
     },
     "execution_count": 5,
     "metadata": {},
     "output_type": "execute_result"
    }
   ],
   "source": [
    "solve_all()"
   ]
  },
  {
   "cell_type": "code",
   "execution_count": 6,
   "metadata": {},
   "outputs": [],
   "source": [
    "using LinearAlgebra"
   ]
  },
  {
   "cell_type": "code",
   "execution_count": 7,
   "metadata": {},
   "outputs": [],
   "source": [
    "using JuMP"
   ]
  },
  {
   "cell_type": "code",
   "execution_count": 8,
   "metadata": {},
   "outputs": [],
   "source": [
    "using Cbc"
   ]
  },
  {
   "cell_type": "code",
   "execution_count": 9,
   "metadata": {},
   "outputs": [
    {
     "data": {
      "text/plain": [
       "sudoku_solve (generic function with 1 method)"
      ]
     },
     "execution_count": 9,
     "metadata": {},
     "output_type": "execute_result"
    }
   ],
   "source": [
    "function sudoku_solve(lines, idx)\n",
    "    t = [lines[10idx-j][k] - '0' for j in 8:-1:0, k in 1:9]\n",
    "    m = Model(with_optimizer(Cbc.Optimizer, logLevel=0))\n",
    "    @variable(m, x[1:9, 1:9, 1:9], Bin)\n",
    "    for i in 1:9, j in 1:9\n",
    "        @constraint(m, sum(x[i, j, :]) == 1)\n",
    "        @constraint(m, sum(x[i, :, j]) == 1)\n",
    "        @constraint(m, sum(x[:, i, j]) == 1)\n",
    "        t[i, j] > 0 && @constraint(m, x[i, j, t[i, j]] == 1)\n",
    "    end\n",
    "    for i in 0:2, j in 0:2, k in 1:9\n",
    "        @constraint(m, sum(x[3i .+ (1:3), 3j .+ (1:3), k]) == 1)\n",
    "    end\n",
    "    optimize!(m)\n",
    "    xv = value.(x)\n",
    "    v = 100dot(1:9, xv[1,1,:]) + 10dot(1:9, xv[1,2,:]) + dot(1:9, xv[1,3,:])\n",
    "    println(lines[10idx-9], \":\\t\", v)\n",
    "    return v\n",
    "end"
   ]
  },
  {
   "cell_type": "code",
   "execution_count": 10,
   "metadata": {},
   "outputs": [
    {
     "name": "stdout",
     "output_type": "stream",
     "text": [
      "Grid 01:\t483.0\n",
      "Grid 02:\t245.0\n",
      "Grid 03:\t462.0\n",
      "Grid 04:\t137.0\n",
      "Grid 05:\t523.0\n",
      "Grid 06:\t176.0\n",
      "Grid 07:\t143.0\n",
      "Grid 08:\t487.0\n",
      "Grid 09:\t814.0\n",
      "Grid 10:\t761.0\n",
      "Grid 11:\t976.0\n",
      "Grid 12:\t962.0\n",
      "Grid 13:\t397.0\n",
      "Grid 14:\t639.0\n",
      "Grid 15:\t697.0\n",
      "Grid 16:\t361.0\n",
      "Grid 17:\t359.0\n",
      "Grid 18:\t786.0\n",
      "Grid 19:\t743.0\n",
      "Grid 20:\t782.0\n",
      "Grid 21:\t428.0\n",
      "Grid 22:\t425.0\n",
      "Grid 23:\t348.0\n",
      "Grid 24:\t124.0\n",
      "Grid 25:\t361.0\n",
      "Grid 26:\t581.0\n",
      "Grid 27:\t387.0\n",
      "Grid 28:\t345.0\n",
      "Grid 29:\t235.0\n",
      "Grid 30:\t298.0\n",
      "Grid 31:\t761.0\n",
      "Grid 32:\t132.0\n",
      "Grid 33:\t698.0\n",
      "Grid 34:\t852.0\n",
      "Grid 35:\t453.0\n",
      "Grid 36:\t516.0\n",
      "Grid 37:\t945.0\n",
      "Grid 38:\t365.0\n",
      "Grid 39:\t134.0\n",
      "Grid 40:\t193.0\n",
      "Grid 41:\t814.0\n",
      "Grid 42:\t384.0\n",
      "Grid 43:\t469.0\n",
      "Grid 44:\t316.0\n",
      "Grid 45:\t586.0\n",
      "Grid 46:\t954.0\n",
      "Grid 47:\t159.0\n",
      "Grid 48:\t861.0\n",
      "Grid 49:\t294.0\n",
      "Grid 50:\t351.0\n"
     ]
    },
    {
     "data": {
      "text/plain": [
       "24702.0"
      ]
     },
     "execution_count": 10,
     "metadata": {},
     "output_type": "execute_result"
    }
   ],
   "source": [
    "solve_all()"
   ]
  }
 ],
 "metadata": {
  "kernelspec": {
   "display_name": "Julia 1.1.0",
   "language": "julia",
   "name": "julia-1.1"
  },
  "language_info": {
   "file_extension": ".jl",
   "mimetype": "application/julia",
   "name": "julia",
   "version": "1.1.0"
  }
 },
 "nbformat": 4,
 "nbformat_minor": 2
}
