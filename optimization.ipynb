{
 "cells": [
  {
   "cell_type": "markdown",
   "metadata": {},
   "source": [
    "# Bogumił Kamiński, 2019-03-25"
   ]
  },
  {
   "cell_type": "code",
   "execution_count": 1,
   "metadata": {},
   "outputs": [],
   "source": [
    "using LinearAlgebra\n",
    "using Random\n",
    "using ForwardDiff\n",
    "using DataFrames\n",
    "using GLM"
   ]
  },
  {
   "cell_type": "code",
   "execution_count": 2,
   "metadata": {},
   "outputs": [
    {
     "data": {
      "text/plain": [
       "marquardt (generic function with 1 method)"
      ]
     },
     "execution_count": 2,
     "metadata": {},
     "output_type": "execute_result"
    }
   ],
   "source": [
    "function marquardt(f, x₀; ε=1e-6, maxiter=1000, λ=10.0^4, α=2)\n",
    "    x = x₀\n",
    "    fx = f(x)\n",
    "    converged = false\n",
    "    i = 0\n",
    "    while i < maxiter\n",
    "        i += 1\n",
    "        ∇f = ForwardDiff.gradient(f, x)\n",
    "        if norm(∇f) ≤ ε\n",
    "            converged = true\n",
    "            break\n",
    "        end\n",
    "        ∇²f = ForwardDiff.hessian(f, x)\n",
    "        x′ = x - (∇²f + λ*I) \\ ∇f\n",
    "        fx′ = f(x′)\n",
    "        if fx′ < fx\n",
    "            λ *= 0.5\n",
    "            fx = fx′\n",
    "            x = x′\n",
    "        else\n",
    "            λ *= 2.0\n",
    "        end\n",
    "    end\n",
    "    (x=x, fx=fx, converged=converged, iters=i)\n",
    "end"
   ]
  },
  {
   "cell_type": "code",
   "execution_count": 3,
   "metadata": {},
   "outputs": [
    {
     "data": {
      "text/plain": [
       "rosenbrock (generic function with 1 method)"
      ]
     },
     "execution_count": 3,
     "metadata": {},
     "output_type": "execute_result"
    }
   ],
   "source": [
    "rosenbrock(x) = sum((1-x[i])^2 + 100(x[i+1]-x[i]^2)^2 for i in 1:length(x)-1)"
   ]
  },
  {
   "cell_type": "code",
   "execution_count": 4,
   "metadata": {},
   "outputs": [
    {
     "data": {
      "text/plain": [
       "(x = [1.0, 1.0, 1.0, 1.0, 1.0, 1.0, 1.0, 1.0, 1.0, 1.0, 1.0, 1.0, 1.0, 1.0, 1.0, 1.0, 1.0, 1.0, 1.0, 1.0], fx = 7.643342734267342e-15, converged = true, iters = 53)"
      ]
     },
     "execution_count": 4,
     "metadata": {},
     "output_type": "execute_result"
    }
   ],
   "source": [
    "Random.seed!(1234)\n",
    "x = rand(20);\n",
    "marquardt(rosenbrock, x)"
   ]
  },
  {
   "cell_type": "code",
   "execution_count": 5,
   "metadata": {},
   "outputs": [
    {
     "data": {
      "text/html": [
       "<table class=\"data-frame\"><thead><tr><th></th><th>x1</th><th>x2</th><th>x3</th><th>x4</th><th>y</th></tr><tr><th></th><th>Float64</th><th>Float64</th><th>Float64</th><th>Float64</th><th>Float64</th></tr></thead><tbody><p>1,000 rows × 5 columns</p><tr><th>1</th><td>0.768448</td><td>0.724897</td><td>0.0824815</td><td>0.240819</td><td>1.76327</td></tr><tr><th>2</th><td>0.940515</td><td>0.0745399</td><td>0.950025</td><td>0.396575</td><td>3.32997</td></tr><tr><th>3</th><td>0.673959</td><td>0.317564</td><td>0.657439</td><td>0.878578</td><td>3.46812</td></tr><tr><th>4</th><td>0.395453</td><td>0.286774</td><td>0.147889</td><td>0.855912</td><td>1.59305</td></tr><tr><th>5</th><td>0.313244</td><td>0.702091</td><td>0.191318</td><td>0.572289</td><td>1.99789</td></tr><tr><th>6</th><td>0.662555</td><td>0.497805</td><td>0.318801</td><td>0.955608</td><td>3.04278</td></tr><tr><th>7</th><td>0.586022</td><td>0.0628874</td><td>0.0241049</td><td>0.582165</td><td>0.946514</td></tr><tr><th>8</th><td>0.0521332</td><td>0.817261</td><td>0.170354</td><td>0.309421</td><td>2.0729</td></tr><tr><th>9</th><td>0.26864</td><td>0.412464</td><td>0.679465</td><td>0.324786</td><td>1.79548</td></tr><tr><th>10</th><td>0.108871</td><td>0.449599</td><td>0.0881285</td><td>0.249008</td><td>1.48608</td></tr><tr><th>11</th><td>0.163666</td><td>0.00206474</td><td>0.841888</td><td>0.265146</td><td>3.28918</td></tr><tr><th>12</th><td>0.473017</td><td>0.513834</td><td>0.470577</td><td>0.0489779</td><td>3.30708</td></tr><tr><th>13</th><td>0.865412</td><td>0.957687</td><td>0.848763</td><td>0.446799</td><td>1.78452</td></tr><tr><th>14</th><td>0.617492</td><td>0.226397</td><td>0.0612825</td><td>0.0828356</td><td>1.92798</td></tr><tr><th>15</th><td>0.285698</td><td>0.634207</td><td>0.351579</td><td>0.0494416</td><td>1.36954</td></tr><tr><th>16</th><td>0.463847</td><td>0.868179</td><td>0.654642</td><td>0.079563</td><td>0.796141</td></tr><tr><th>17</th><td>0.275819</td><td>0.437804</td><td>0.125817</td><td>0.207898</td><td>1.07226</td></tr><tr><th>18</th><td>0.446568</td><td>0.574079</td><td>0.0612254</td><td>0.129481</td><td>0.759236</td></tr><tr><th>19</th><td>0.582318</td><td>0.224442</td><td>0.844362</td><td>0.716321</td><td>3.03324</td></tr><tr><th>20</th><td>0.255981</td><td>0.754176</td><td>0.75394</td><td>0.844381</td><td>2.39694</td></tr><tr><th>21</th><td>0.70586</td><td>0.576241</td><td>0.573572</td><td>0.951484</td><td>2.6011</td></tr><tr><th>22</th><td>0.291978</td><td>0.339306</td><td>0.791601</td><td>0.842339</td><td>5.36321</td></tr><tr><th>23</th><td>0.281066</td><td>0.177787</td><td>0.343134</td><td>0.495104</td><td>2.01767</td></tr><tr><th>24</th><td>0.792931</td><td>0.758172</td><td>0.917126</td><td>0.525337</td><td>1.96327</td></tr><tr><th>25</th><td>0.20923</td><td>0.972962</td><td>0.627512</td><td>0.277015</td><td>2.5025</td></tr><tr><th>26</th><td>0.918165</td><td>0.769563</td><td>0.424674</td><td>0.373081</td><td>3.55912</td></tr><tr><th>27</th><td>0.614255</td><td>0.490236</td><td>0.688046</td><td>0.172772</td><td>4.67166</td></tr><tr><th>28</th><td>0.802665</td><td>0.947321</td><td>0.259946</td><td>0.293926</td><td>1.40775</td></tr><tr><th>29</th><td>0.555668</td><td>0.121137</td><td>0.367541</td><td>0.00488992</td><td>1.9078</td></tr><tr><th>30</th><td>0.940782</td><td>0.939369</td><td>0.574922</td><td>0.741051</td><td>3.08353</td></tr><tr><th>&vellip;</th><td>&vellip;</td><td>&vellip;</td><td>&vellip;</td><td>&vellip;</td><td>&vellip;</td></tr></tbody></table>"
      ],
      "text/latex": [
       "\\begin{tabular}{r|ccccc}\n",
       "\t& x1 & x2 & x3 & x4 & y\\\\\n",
       "\t\\hline\n",
       "\t& Float64 & Float64 & Float64 & Float64 & Float64\\\\\n",
       "\t\\hline\n",
       "\t1 & 0.768448 & 0.724897 & 0.0824815 & 0.240819 & 1.76327 \\\\\n",
       "\t2 & 0.940515 & 0.0745399 & 0.950025 & 0.396575 & 3.32997 \\\\\n",
       "\t3 & 0.673959 & 0.317564 & 0.657439 & 0.878578 & 3.46812 \\\\\n",
       "\t4 & 0.395453 & 0.286774 & 0.147889 & 0.855912 & 1.59305 \\\\\n",
       "\t5 & 0.313244 & 0.702091 & 0.191318 & 0.572289 & 1.99789 \\\\\n",
       "\t6 & 0.662555 & 0.497805 & 0.318801 & 0.955608 & 3.04278 \\\\\n",
       "\t7 & 0.586022 & 0.0628874 & 0.0241049 & 0.582165 & 0.946514 \\\\\n",
       "\t8 & 0.0521332 & 0.817261 & 0.170354 & 0.309421 & 2.0729 \\\\\n",
       "\t9 & 0.26864 & 0.412464 & 0.679465 & 0.324786 & 1.79548 \\\\\n",
       "\t10 & 0.108871 & 0.449599 & 0.0881285 & 0.249008 & 1.48608 \\\\\n",
       "\t11 & 0.163666 & 0.00206474 & 0.841888 & 0.265146 & 3.28918 \\\\\n",
       "\t12 & 0.473017 & 0.513834 & 0.470577 & 0.0489779 & 3.30708 \\\\\n",
       "\t13 & 0.865412 & 0.957687 & 0.848763 & 0.446799 & 1.78452 \\\\\n",
       "\t14 & 0.617492 & 0.226397 & 0.0612825 & 0.0828356 & 1.92798 \\\\\n",
       "\t15 & 0.285698 & 0.634207 & 0.351579 & 0.0494416 & 1.36954 \\\\\n",
       "\t16 & 0.463847 & 0.868179 & 0.654642 & 0.079563 & 0.796141 \\\\\n",
       "\t17 & 0.275819 & 0.437804 & 0.125817 & 0.207898 & 1.07226 \\\\\n",
       "\t18 & 0.446568 & 0.574079 & 0.0612254 & 0.129481 & 0.759236 \\\\\n",
       "\t19 & 0.582318 & 0.224442 & 0.844362 & 0.716321 & 3.03324 \\\\\n",
       "\t20 & 0.255981 & 0.754176 & 0.75394 & 0.844381 & 2.39694 \\\\\n",
       "\t21 & 0.70586 & 0.576241 & 0.573572 & 0.951484 & 2.6011 \\\\\n",
       "\t22 & 0.291978 & 0.339306 & 0.791601 & 0.842339 & 5.36321 \\\\\n",
       "\t23 & 0.281066 & 0.177787 & 0.343134 & 0.495104 & 2.01767 \\\\\n",
       "\t24 & 0.792931 & 0.758172 & 0.917126 & 0.525337 & 1.96327 \\\\\n",
       "\t25 & 0.20923 & 0.972962 & 0.627512 & 0.277015 & 2.5025 \\\\\n",
       "\t26 & 0.918165 & 0.769563 & 0.424674 & 0.373081 & 3.55912 \\\\\n",
       "\t27 & 0.614255 & 0.490236 & 0.688046 & 0.172772 & 4.67166 \\\\\n",
       "\t28 & 0.802665 & 0.947321 & 0.259946 & 0.293926 & 1.40775 \\\\\n",
       "\t29 & 0.555668 & 0.121137 & 0.367541 & 0.00488992 & 1.9078 \\\\\n",
       "\t30 & 0.940782 & 0.939369 & 0.574922 & 0.741051 & 3.08353 \\\\\n",
       "\t$\\dots$ & $\\dots$ & $\\dots$ & $\\dots$ & $\\dots$ & $\\dots$ \\\\\n",
       "\\end{tabular}\n"
      ],
      "text/plain": [
       "1000×5 DataFrame\n",
       "│ Row  │ x1        │ x2        │ x3        │ x4        │ y        │\n",
       "│      │ \u001b[90mFloat64\u001b[39m   │ \u001b[90mFloat64\u001b[39m   │ \u001b[90mFloat64\u001b[39m   │ \u001b[90mFloat64\u001b[39m   │ \u001b[90mFloat64\u001b[39m  │\n",
       "├──────┼───────────┼───────────┼───────────┼───────────┼──────────┤\n",
       "│ 1    │ 0.768448  │ 0.724897  │ 0.0824815 │ 0.240819  │ 1.76327  │\n",
       "│ 2    │ 0.940515  │ 0.0745399 │ 0.950025  │ 0.396575  │ 3.32997  │\n",
       "│ 3    │ 0.673959  │ 0.317564  │ 0.657439  │ 0.878578  │ 3.46812  │\n",
       "│ 4    │ 0.395453  │ 0.286774  │ 0.147889  │ 0.855912  │ 1.59305  │\n",
       "│ 5    │ 0.313244  │ 0.702091  │ 0.191318  │ 0.572289  │ 1.99789  │\n",
       "│ 6    │ 0.662555  │ 0.497805  │ 0.318801  │ 0.955608  │ 3.04278  │\n",
       "│ 7    │ 0.586022  │ 0.0628874 │ 0.0241049 │ 0.582165  │ 0.946514 │\n",
       "│ 8    │ 0.0521332 │ 0.817261  │ 0.170354  │ 0.309421  │ 2.0729   │\n",
       "│ 9    │ 0.26864   │ 0.412464  │ 0.679465  │ 0.324786  │ 1.79548  │\n",
       "│ 10   │ 0.108871  │ 0.449599  │ 0.0881285 │ 0.249008  │ 1.48608  │\n",
       "⋮\n",
       "│ 990  │ 0.610837  │ 0.825937  │ 0.650888  │ 0.193963  │ 2.46392  │\n",
       "│ 991  │ 0.322876  │ 0.893832  │ 0.773547  │ 0.648444  │ 1.51026  │\n",
       "│ 992  │ 0.697986  │ 0.0276707 │ 0.654444  │ 0.959987  │ 1.2914   │\n",
       "│ 993  │ 0.0231848 │ 0.594623  │ 0.862965  │ 0.407374  │ 3.27214  │\n",
       "│ 994  │ 0.362228  │ 0.458321  │ 0.623857  │ 0.0927788 │ 0.585818 │\n",
       "│ 995  │ 0.316386  │ 0.592677  │ 0.576847  │ 0.736691  │ 2.56846  │\n",
       "│ 996  │ 0.930966  │ 0.658442  │ 0.410424  │ 0.561523  │ 2.72259  │\n",
       "│ 997  │ 0.392211  │ 0.313537  │ 0.117054  │ 0.070926  │ 0.818356 │\n",
       "│ 998  │ 0.550204  │ 0.403595  │ 0.945402  │ 0.151626  │ 2.16704  │\n",
       "│ 999  │ 0.609629  │ 0.988751  │ 0.412597  │ 0.997073  │ 2.5296   │\n",
       "│ 1000 │ 0.232658  │ 0.60123   │ 0.55511   │ 0.0533596 │ 1.58974  │"
      ]
     },
     "execution_count": 5,
     "metadata": {},
     "output_type": "execute_result"
    }
   ],
   "source": [
    "Random.seed!(123)\n",
    "N = 1000\n",
    "df = DataFrame(rand(N, 4))\n",
    "df.y = sum.(eachrow(df)) + randn(N);\n",
    "df"
   ]
  },
  {
   "cell_type": "code",
   "execution_count": 6,
   "metadata": {},
   "outputs": [
    {
     "data": {
      "text/plain": [
       "StatsModels.DataFrameRegressionModel{LinearModel{LmResp{Array{Float64,1}},DensePredChol{Float64,Cholesky{Float64,Array{Float64,2}}}},Array{Float64,2}}\n",
       "\n",
       "Formula: y ~ 1 + x1 + x2 + x3 + x4\n",
       "\n",
       "Coefficients:\n",
       "             Estimate Std.Error t value Pr(>|t|)\n",
       "(Intercept)  0.306163  0.118228  2.5896   0.0097\n",
       "x1           0.585532  0.117601 4.97897    <1e-6\n",
       "x2           0.928859  0.114768 8.09336   <1e-14\n",
       "x3            0.88908  0.115616 7.68994   <1e-13\n",
       "x4           0.976342  0.113607 8.59403   <1e-16\n"
      ]
     },
     "execution_count": 6,
     "metadata": {},
     "output_type": "execute_result"
    }
   ],
   "source": [
    "lm(@formula(y~x1+x2+x3+x4), df)"
   ]
  },
  {
   "cell_type": "code",
   "execution_count": 7,
   "metadata": {},
   "outputs": [
    {
     "data": {
      "text/plain": [
       "(x = [0.306163, 0.585532, 0.928859, 0.88908, 0.976342], fx = 32.91927364835108, converged = true, iters = 20)"
      ]
     },
     "execution_count": 7,
     "metadata": {},
     "output_type": "execute_result"
    }
   ],
   "source": [
    "function ssq(x)\n",
    "    m = Matrix(df)[:, startswith.(string.(names(df)), \"x\")]\n",
    "    norm(df.y - fill(x[1], nrow(df)) - m * x[2:end])\n",
    "end\n",
    "marquardt(ssq, rand(5))"
   ]
  }
 ],
 "metadata": {
  "kernelspec": {
   "display_name": "Julia 1.1.0",
   "language": "julia",
   "name": "julia-1.1"
  },
  "language_info": {
   "file_extension": ".jl",
   "mimetype": "application/julia",
   "name": "julia",
   "version": "1.1.0"
  }
 },
 "nbformat": 4,
 "nbformat_minor": 2
}
