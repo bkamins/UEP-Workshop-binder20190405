{
 "cells": [
  {
   "cell_type": "markdown",
   "metadata": {},
   "source": [
    "# Bogumił Kamiński, 2019-03-25"
   ]
  },
  {
   "cell_type": "code",
   "execution_count": 1,
   "metadata": {},
   "outputs": [],
   "source": [
    "using LinearAlgebra"
   ]
  },
  {
   "cell_type": "code",
   "execution_count": 2,
   "metadata": {},
   "outputs": [
    {
     "data": {
      "text/plain": [
       "uppersum (generic function with 1 method)"
      ]
     },
     "execution_count": 2,
     "metadata": {},
     "output_type": "execute_result"
    }
   ],
   "source": [
    "function uppersum(M)\n",
    "    n = size(M, 1)\n",
    "    s = 0\n",
    "    for i in 2:n, j in 1:i\n",
    "        s += M[j, i]\n",
    "    end\n",
    "    s\n",
    "end"
   ]
  },
  {
   "cell_type": "code",
   "execution_count": 3,
   "metadata": {},
   "outputs": [
    {
     "name": "stdout",
     "output_type": "stream",
     "text": [
      "  2.232089 seconds (182.95 k allocations: 772.668 MiB, 0.92% gc time)\n",
      "  2.188677 seconds (6 allocations: 762.940 MiB, 3.39% gc time)\n"
     ]
    }
   ],
   "source": [
    "@time m = randn(10_000, 10_000);\n",
    "@time m = randn(10_000, 10_000);"
   ]
  },
  {
   "cell_type": "code",
   "execution_count": 4,
   "metadata": {},
   "outputs": [
    {
     "data": {
      "text/plain": [
       "10000×10000 Array{Float64,2}:\n",
       " -0.479243  -0.85744     2.26863    …   1.69522     0.409373   -0.742196 \n",
       " -1.84732    0.108581   -1.49623        2.10733    -1.28332    -1.0569   \n",
       " -1.54526    1.08242    -0.730543       0.447776    1.18869    -0.402207 \n",
       "  2.14632   -1.32071     1.16243        0.234527   -1.03993     0.647464 \n",
       "  0.115518   0.383905   -1.3217         1.41236     0.346543   -0.0125705\n",
       " -2.56037    0.969807    1.2132     …  -3.95354    -0.418124    0.119747 \n",
       " -1.70359   -0.0972597   2.81775       -0.0600645  -0.536344    0.594574 \n",
       "  0.335061  -0.166749   -0.794782       1.41307     1.14313     0.487004 \n",
       " -0.553707   0.71536     1.21387       -0.409494    0.899913    1.17     \n",
       " -0.608384   0.216786    0.188842      -0.204436    0.0635829  -0.741049 \n",
       " -1.34651   -0.527582    0.578613   …  -0.128255   -0.107124   -0.362006 \n",
       "  0.578875  -1.47299    -0.495761      -0.764963   -0.943766   -1.4497   \n",
       "  0.397916   0.217965    0.0596513     -1.91038     1.00995     0.919999 \n",
       "  ⋮                                 ⋱                                    \n",
       "  0.154983  -2.00283     1.46079       -0.0170731  -1.47915    -0.76972  \n",
       "  1.77489    0.173549    1.01994        0.298973    1.09123    -0.0455811\n",
       "  1.2122     0.983939   -0.338678   …  -1.27923    -0.179579   -1.73159  \n",
       "  1.03416    0.295085   -0.390975       1.19137     0.384673    0.545142 \n",
       "  0.66484   -0.472797   -0.848957       0.269222    0.204244   -0.645787 \n",
       "  0.250323   1.12246     0.896097      -2.75383     0.198024   -1.11442  \n",
       " -0.78502   -1.37526    -0.163415      -0.612347   -0.162424   -1.32324  \n",
       "  0.223823  -0.665237    0.656446   …  -1.4066     -1.1716     -1.33013  \n",
       " -0.771867  -0.202004   -0.817654      -1.15393     1.346      -0.455166 \n",
       " -1.18102   -0.143736    0.687381      -0.436232   -1.77016    -0.740661 \n",
       "  2.30551    0.17434    -0.291481       2.01447    -0.897403   -0.259008 \n",
       "  0.578963  -0.242347    0.367028      -0.0300587  -0.497494   -0.151838 "
      ]
     },
     "execution_count": 4,
     "metadata": {},
     "output_type": "execute_result"
    }
   ],
   "source": [
    "m"
   ]
  },
  {
   "cell_type": "code",
   "execution_count": 5,
   "metadata": {},
   "outputs": [
    {
     "name": "stdout",
     "output_type": "stream",
     "text": [
      "  0.144361 seconds (89.04 k allocations: 4.748 MiB, 3.09% gc time)\n"
     ]
    },
    {
     "data": {
      "text/plain": [
       "3093.87969005797"
      ]
     },
     "execution_count": 5,
     "metadata": {},
     "output_type": "execute_result"
    }
   ],
   "source": [
    "@time sum(m)"
   ]
  },
  {
   "cell_type": "code",
   "execution_count": 6,
   "metadata": {},
   "outputs": [
    {
     "name": "stdout",
     "output_type": "stream",
     "text": [
      "  0.067829 seconds (5 allocations: 176 bytes)\n"
     ]
    },
    {
     "data": {
      "text/plain": [
       "3093.87969005797"
      ]
     },
     "execution_count": 6,
     "metadata": {},
     "output_type": "execute_result"
    }
   ],
   "source": [
    "@time sum(m)"
   ]
  },
  {
   "cell_type": "code",
   "execution_count": 7,
   "metadata": {},
   "outputs": [
    {
     "name": "stdout",
     "output_type": "stream",
     "text": [
      "  0.480166 seconds (188.18 k allocations: 9.320 MiB)\n"
     ]
    },
    {
     "data": {
      "text/plain": [
       "-2141.732376201407"
      ]
     },
     "execution_count": 7,
     "metadata": {},
     "output_type": "execute_result"
    }
   ],
   "source": [
    "@time sum(UpperTriangular(m))"
   ]
  },
  {
   "cell_type": "code",
   "execution_count": 8,
   "metadata": {},
   "outputs": [
    {
     "name": "stdout",
     "output_type": "stream",
     "text": [
      "  0.331985 seconds (6 allocations: 192 bytes)\n"
     ]
    },
    {
     "data": {
      "text/plain": [
       "-2141.732376201407"
      ]
     },
     "execution_count": 8,
     "metadata": {},
     "output_type": "execute_result"
    }
   ],
   "source": [
    "@time sum(UpperTriangular(m))"
   ]
  },
  {
   "cell_type": "code",
   "execution_count": 9,
   "metadata": {},
   "outputs": [
    {
     "name": "stdout",
     "output_type": "stream",
     "text": [
      "  0.315009 seconds (35.01 k allocations: 1.844 MiB)\n"
     ]
    },
    {
     "data": {
      "text/plain": [
       "-2141.253133190607"
      ]
     },
     "execution_count": 9,
     "metadata": {},
     "output_type": "execute_result"
    }
   ],
   "source": [
    "@time uppersum(m)"
   ]
  },
  {
   "cell_type": "code",
   "execution_count": 10,
   "metadata": {},
   "outputs": [
    {
     "name": "stdout",
     "output_type": "stream",
     "text": [
      "  0.295145 seconds (5 allocations: 176 bytes)\n"
     ]
    },
    {
     "data": {
      "text/plain": [
       "-2141.253133190607"
      ]
     },
     "execution_count": 10,
     "metadata": {},
     "output_type": "execute_result"
    }
   ],
   "source": [
    "@time uppersum(m)"
   ]
  },
  {
   "cell_type": "code",
   "execution_count": 11,
   "metadata": {},
   "outputs": [
    {
     "data": {
      "text/plain": [
       "uppersum (generic function with 2 methods)"
      ]
     },
     "execution_count": 11,
     "metadata": {},
     "output_type": "execute_result"
    }
   ],
   "source": [
    "function uppersum(M::AbstractMatrix{T}) where {T<:Number}\n",
    "    n = size(M, 1)\n",
    "    @assert size(M, 1) == size(M, 1)\n",
    "    s = zero(T)\n",
    "    for i in 2:n\n",
    "        @simd for j in 1:i\n",
    "            @inbounds s += M[j, i]\n",
    "        end\n",
    "    end\n",
    "    s\n",
    "end"
   ]
  },
  {
   "cell_type": "code",
   "execution_count": 12,
   "metadata": {},
   "outputs": [
    {
     "name": "stdout",
     "output_type": "stream",
     "text": [
      "  0.062518 seconds (52.53 k allocations: 2.729 MiB)\n"
     ]
    },
    {
     "data": {
      "text/plain": [
       "-2141.253133188309"
      ]
     },
     "execution_count": 12,
     "metadata": {},
     "output_type": "execute_result"
    }
   ],
   "source": [
    "@time uppersum(m)"
   ]
  },
  {
   "cell_type": "code",
   "execution_count": 13,
   "metadata": {},
   "outputs": [
    {
     "name": "stdout",
     "output_type": "stream",
     "text": [
      "  0.032846 seconds (5 allocations: 176 bytes)\n"
     ]
    },
    {
     "data": {
      "text/plain": [
       "-2141.253133188309"
      ]
     },
     "execution_count": 13,
     "metadata": {},
     "output_type": "execute_result"
    }
   ],
   "source": [
    "@time uppersum(m)"
   ]
  }
 ],
 "metadata": {
  "kernelspec": {
   "display_name": "Julia 1.1.0",
   "language": "julia",
   "name": "julia-1.1"
  },
  "language_info": {
   "file_extension": ".jl",
   "mimetype": "application/julia",
   "name": "julia",
   "version": "1.1.0"
  }
 },
 "nbformat": 4,
 "nbformat_minor": 2
}
