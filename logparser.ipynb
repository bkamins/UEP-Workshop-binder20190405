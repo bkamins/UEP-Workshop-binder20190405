{
 "cells": [
  {
   "cell_type": "markdown",
   "metadata": {},
   "source": [
    "# Bogumił Kamiński, 2019-03-25"
   ]
  },
  {
   "cell_type": "code",
   "execution_count": 1,
   "metadata": {},
   "outputs": [],
   "source": [
    "using DataFrames"
   ]
  },
  {
   "cell_type": "code",
   "execution_count": 2,
   "metadata": {},
   "outputs": [
    {
     "data": {
      "text/plain": [
       "22855-element Array{String,1}:\n",
       " \"commit ef530285cc6991660feac33d71f332e1a7e34686\"                                \n",
       " \"Author: Bogumił Kamiński <bkamins@sgh.waw.pl>\"                                  \n",
       " \"Date:   Wed Mar 13 21:17:48 2019 +0100\"                                         \n",
       " \"\"                                                                               \n",
       " \"    upgrade documentation (#1748)\"                                              \n",
       " \"\"                                                                               \n",
       " \" src/groupeddataframe/grouping.jl | 153 ++++++++++++++++++++++++++++++++-------\"\n",
       " \" 1 file changed, 125 insertions(+), 28 deletions(-)\"                            \n",
       " \"\"                                                                               \n",
       " \"commit b69c5980109a49ea3bfe6234173a8db16f8e2cba\"                                \n",
       " \"Author: Milan Bouchet-Valat <nalimilan@club.fr>\"                                \n",
       " \"Date:   Wed Mar 13 16:01:16 2019 +0100\"                                         \n",
       " \"\"                                                                               \n",
       " ⋮                                                                                \n",
       " \"\"                                                                               \n",
       " \"commit 7748932214898a2a65dba24d3f4a301f365e3be2\"                                \n",
       " \"Author: Douglas Bates <dmbates@gmail.com>\"                                      \n",
       " \"Date:   Sat Mar 17 16:57:17 2012 -0500\"                                         \n",
       " \"\"                                                                               \n",
       " \"    Merge remote-tracking branch 'upstream/master'\"                             \n",
       " \"\"                                                                               \n",
       " \"commit f177b72614dbb652c06372b1de5e6cf9df5f81b1\"                                \n",
       " \"Author: Viral Shah <viral@mayin.org>\"                                           \n",
       " \"Date:   Sun Jan 30 23:12:57 2011 +0530\"                                         \n",
       " \"\"                                                                               \n",
       " \"    Move editor definition files to extras. You may have to change your paths.\" "
      ]
     },
     "execution_count": 2,
     "metadata": {},
     "output_type": "execute_result"
    }
   ],
   "source": [
    "lines = readlines(\"sample_dataframes.log\")"
   ]
  },
  {
   "cell_type": "code",
   "execution_count": 3,
   "metadata": {},
   "outputs": [
    {
     "data": {
      "text/plain": [
       "r\"^.+changed.*, ([0-9]+) deletion\""
      ]
     },
     "execution_count": 3,
     "metadata": {},
     "output_type": "execute_result"
    }
   ],
   "source": [
    "author = r\"^Author: ([^<]*) <\"\n",
    "insc = r\"^.+changed, ([0-9]+) insertion\"\n",
    "delc = r\"^.+changed.*, ([0-9]+) deletion\""
   ]
  },
  {
   "cell_type": "code",
   "execution_count": 4,
   "metadata": {},
   "outputs": [
    {
     "data": {
      "text/html": [
       "<table class=\"data-frame\"><thead><tr><th></th><th>author</th><th>action</th><th>count</th></tr><tr><th></th><th>String</th><th>String</th><th>Int64</th></tr></thead><tbody><p>0 rows × 3 columns</p></tbody></table>"
      ],
      "text/latex": [
       "\\begin{tabular}{r|ccc}\n",
       "\t& author & action & count\\\\\n",
       "\t\\hline\n",
       "\t& String & String & Int64\\\\\n",
       "\t\\hline\n",
       "\\end{tabular}\n"
      ],
      "text/plain": [
       "0×3 DataFrame\n"
      ]
     },
     "execution_count": 4,
     "metadata": {},
     "output_type": "execute_result"
    }
   ],
   "source": [
    "authordata = DataFrame(author=String[], action=String[], count=Int[])"
   ]
  },
  {
   "cell_type": "code",
   "execution_count": 5,
   "metadata": {},
   "outputs": [
    {
     "data": {
      "text/plain": [
       "\"\""
      ]
     },
     "execution_count": 5,
     "metadata": {},
     "output_type": "execute_result"
    }
   ],
   "source": [
    "curauthor = \"\""
   ]
  },
  {
   "cell_type": "code",
   "execution_count": 6,
   "metadata": {},
   "outputs": [],
   "source": [
    "for line in lines\n",
    "    m = match(author, line)\n",
    "    if m !== nothing\n",
    "        global curauthor = m[1]\n",
    "    end\n",
    "    m = match(insc, line)\n",
    "    m === nothing || push!(authordata,\n",
    "                           [curauthor, \"insertion\", parse(Int, m[1])])\n",
    "    m = match(delc, line)\n",
    "    m === nothing || push!(authordata,\n",
    "                           [curauthor, \"deletion\", parse(Int, m[1])])\n",
    "end"
   ]
  },
  {
   "cell_type": "code",
   "execution_count": 7,
   "metadata": {},
   "outputs": [
    {
     "data": {
      "text/html": [
       "<table class=\"data-frame\"><thead><tr><th></th><th>author</th><th>action</th><th>count</th></tr><tr><th></th><th>String</th><th>String</th><th>Int64</th></tr></thead><tbody><p>278 rows × 3 columns</p><tr><th>1</th><td>Bogumił Kamiński</td><td>insertion</td><td>12717</td></tr><tr><th>2</th><td>Bogumił Kamiński</td><td>deletion</td><td>9104</td></tr><tr><th>3</th><td>Milan Bouchet-Valat</td><td>insertion</td><td>9720</td></tr><tr><th>4</th><td>Milan Bouchet-Valat</td><td>deletion</td><td>8765</td></tr><tr><th>5</th><td>pdeffebach</td><td>insertion</td><td>499</td></tr><tr><th>6</th><td>pdeffebach</td><td>deletion</td><td>631</td></tr><tr><th>7</th><td>Harry Scholes</td><td>insertion</td><td>41</td></tr><tr><th>8</th><td>Harry Scholes</td><td>deletion</td><td>27</td></tr><tr><th>9</th><td>Katharine Hyatt</td><td>insertion</td><td>27</td></tr><tr><th>10</th><td>Katharine Hyatt</td><td>deletion</td><td>22</td></tr><tr><th>11</th><td>Lyndon White</td><td>insertion</td><td>180</td></tr><tr><th>12</th><td>Lyndon White</td><td>deletion</td><td>138</td></tr><tr><th>13</th><td>Jonas Schulze</td><td>insertion</td><td>10</td></tr><tr><th>14</th><td>Jonas Schulze</td><td>deletion</td><td>8</td></tr><tr><th>15</th><td>David Anthoff</td><td>insertion</td><td>205</td></tr><tr><th>16</th><td>José Bayoán Santiago Calderón</td><td>insertion</td><td>4</td></tr><tr><th>17</th><td>José Bayoán Santiago Calderón</td><td>deletion</td><td>2</td></tr><tr><th>18</th><td>petershintech</td><td>insertion</td><td>18</td></tr><tr><th>19</th><td>petershintech</td><td>deletion</td><td>10</td></tr><tr><th>20</th><td>Jacob Quinn</td><td>insertion</td><td>12</td></tr><tr><th>21</th><td>Jacob Quinn</td><td>deletion</td><td>29</td></tr><tr><th>22</th><td>Raphael Bacher</td><td>insertion</td><td>42</td></tr><tr><th>23</th><td>Drvi</td><td>insertion</td><td>2</td></tr><tr><th>24</th><td>Júlio Hoffimann</td><td>insertion</td><td>14</td></tr><tr><th>25</th><td>Júlio Hoffimann</td><td>deletion</td><td>3</td></tr><tr><th>26</th><td>Nils</td><td>insertion</td><td>12</td></tr><tr><th>27</th><td>David Anthoff</td><td>deletion</td><td>38</td></tr><tr><th>28</th><td>José Bayoán Santiago Calderón (史志鼎)</td><td>deletion</td><td>64</td></tr><tr><th>29</th><td>femtotrader</td><td>insertion</td><td>4</td></tr><tr><th>30</th><td>Sebastian Pfitzner</td><td>insertion</td><td>17</td></tr><tr><th>&vellip;</th><td>&vellip;</td><td>&vellip;</td><td>&vellip;</td></tr></tbody></table>"
      ],
      "text/latex": [
       "\\begin{tabular}{r|ccc}\n",
       "\t& author & action & count\\\\\n",
       "\t\\hline\n",
       "\t& String & String & Int64\\\\\n",
       "\t\\hline\n",
       "\t1 & Bogumił Kamiński & insertion & 12717 \\\\\n",
       "\t2 & Bogumił Kamiński & deletion & 9104 \\\\\n",
       "\t3 & Milan Bouchet-Valat & insertion & 9720 \\\\\n",
       "\t4 & Milan Bouchet-Valat & deletion & 8765 \\\\\n",
       "\t5 & pdeffebach & insertion & 499 \\\\\n",
       "\t6 & pdeffebach & deletion & 631 \\\\\n",
       "\t7 & Harry Scholes & insertion & 41 \\\\\n",
       "\t8 & Harry Scholes & deletion & 27 \\\\\n",
       "\t9 & Katharine Hyatt & insertion & 27 \\\\\n",
       "\t10 & Katharine Hyatt & deletion & 22 \\\\\n",
       "\t11 & Lyndon White & insertion & 180 \\\\\n",
       "\t12 & Lyndon White & deletion & 138 \\\\\n",
       "\t13 & Jonas Schulze & insertion & 10 \\\\\n",
       "\t14 & Jonas Schulze & deletion & 8 \\\\\n",
       "\t15 & David Anthoff & insertion & 205 \\\\\n",
       "\t16 & José Bayoán Santiago Calderón & insertion & 4 \\\\\n",
       "\t17 & José Bayoán Santiago Calderón & deletion & 2 \\\\\n",
       "\t18 & petershintech & insertion & 18 \\\\\n",
       "\t19 & petershintech & deletion & 10 \\\\\n",
       "\t20 & Jacob Quinn & insertion & 12 \\\\\n",
       "\t21 & Jacob Quinn & deletion & 29 \\\\\n",
       "\t22 & Raphael Bacher & insertion & 42 \\\\\n",
       "\t23 & Drvi & insertion & 2 \\\\\n",
       "\t24 & Júlio Hoffimann & insertion & 14 \\\\\n",
       "\t25 & Júlio Hoffimann & deletion & 3 \\\\\n",
       "\t26 & Nils & insertion & 12 \\\\\n",
       "\t27 & David Anthoff & deletion & 38 \\\\\n",
       "\t28 & José Bayoán Santiago Calderón (史志鼎) & deletion & 64 \\\\\n",
       "\t29 & femtotrader & insertion & 4 \\\\\n",
       "\t30 & Sebastian Pfitzner & insertion & 17 \\\\\n",
       "\t$\\dots$ & $\\dots$ & $\\dots$ & $\\dots$ \\\\\n",
       "\\end{tabular}\n"
      ],
      "text/plain": [
       "278×3 DataFrame\n",
       "│ Row │ author               │ action    │ count │\n",
       "│     │ \u001b[90mString\u001b[39m               │ \u001b[90mString\u001b[39m    │ \u001b[90mInt64\u001b[39m │\n",
       "├─────┼──────────────────────┼───────────┼───────┤\n",
       "│ 1   │ Bogumił Kamiński     │ insertion │ 12717 │\n",
       "│ 2   │ Bogumił Kamiński     │ deletion  │ 9104  │\n",
       "│ 3   │ Milan Bouchet-Valat  │ insertion │ 9720  │\n",
       "│ 4   │ Milan Bouchet-Valat  │ deletion  │ 8765  │\n",
       "│ 5   │ pdeffebach           │ insertion │ 499   │\n",
       "│ 6   │ pdeffebach           │ deletion  │ 631   │\n",
       "│ 7   │ Harry Scholes        │ insertion │ 41    │\n",
       "│ 8   │ Harry Scholes        │ deletion  │ 27    │\n",
       "│ 9   │ Katharine Hyatt      │ insertion │ 27    │\n",
       "│ 10  │ Katharine Hyatt      │ deletion  │ 22    │\n",
       "⋮\n",
       "│ 268 │ Keith                │ insertion │ 1     │\n",
       "│ 269 │ Keith                │ deletion  │ 11    │\n",
       "│ 270 │ Andreas Noack Jensen │ insertion │ 212   │\n",
       "│ 271 │ Andreas Noack Jensen │ deletion  │ 67    │\n",
       "│ 272 │ Harlan Harris        │ insertion │ 4514  │\n",
       "│ 273 │ Harlan Harris        │ deletion  │ 1898  │\n",
       "│ 274 │ Nathaniel Daw        │ insertion │ 6     │\n",
       "│ 275 │ Nathaniel Daw        │ deletion  │ 23    │\n",
       "│ 276 │ Chris DuBois         │ insertion │ 993   │\n",
       "│ 277 │ Chris DuBois         │ deletion  │ 432   │\n",
       "│ 278 │ Stefan Karpinski     │ deletion  │ 4     │"
      ]
     },
     "execution_count": 7,
     "metadata": {},
     "output_type": "execute_result"
    }
   ],
   "source": [
    "authorstats = by(authordata, [:author, :action], count = :count=>sum)"
   ]
  },
  {
   "cell_type": "code",
   "execution_count": 8,
   "metadata": {},
   "outputs": [
    {
     "data": {
      "text/html": [
       "<table class=\"data-frame\"><thead><tr><th></th><th>author</th><th>deletion</th><th>insertion</th></tr><tr><th></th><th>String</th><th>Int64⍰</th><th>Int64⍰</th></tr></thead><tbody><p>150 rows × 3 columns</p><tr><th>1</th><td>Adam Labadorf</td><td>1</td><td>1</td></tr><tr><th>2</th><td>Alain Lichnewsky</td><td>1</td><td>1</td></tr><tr><th>3</th><td>AlainLich</td><td>1</td><td>1</td></tr><tr><th>4</th><td>Alex Arslan</td><td>1112</td><td>197</td></tr><tr><th>5</th><td>Alex Mellnik</td><td>100</td><td>164</td></tr><tr><th>6</th><td>Alexey Stukalov</td><td>466</td><td>1284</td></tr><tr><th>7</th><td>Andreas Noack</td><td>627</td><td>455</td></tr><tr><th>8</th><td>Andreas Noack Jensen</td><td>67</td><td>212</td></tr><tr><th>9</th><td>Andy Ferris</td><td>3</td><td>4</td></tr><tr><th>10</th><td>Andy Hayden</td><td>13</td><td>14</td></tr><tr><th>11</th><td>AndyGreenwell</td><td>1</td><td>1</td></tr><tr><th>12</th><td>Antonello Lobianco</td><td>2</td><td>2</td></tr><tr><th>13</th><td>Asbjørn Nilsen Riseth</td><td>2</td><td>2</td></tr><tr><th>14</th><td>Ben Peirce</td><td>4</td><td>7</td></tr><tr><th>15</th><td>Benjamin Cherian</td><td>1</td><td>1</td></tr><tr><th>16</th><td>Bogumił Kamiński</td><td>9104</td><td>12717</td></tr><tr><th>17</th><td>C Chan</td><td>missing</td><td>7</td></tr><tr><th>18</th><td>Cameron Prybol</td><td>73847</td><td>3486</td></tr><tr><th>19</th><td>Chris DuBois</td><td>432</td><td>993</td></tr><tr><th>20</th><td>Christian Goldammer</td><td>411</td><td>427</td></tr><tr><th>21</th><td>Christof Stocker</td><td>1</td><td>2</td></tr><tr><th>22</th><td>Curtis Vogt</td><td>34</td><td>57</td></tr><tr><th>23</th><td>Cédric St-Jean</td><td>missing</td><td>10</td></tr><tr><th>24</th><td>Dahua Lin</td><td>26</td><td>28</td></tr><tr><th>25</th><td>Daniel Jones</td><td>13</td><td>28</td></tr><tr><th>26</th><td>Dave Kleinschmidt</td><td>328</td><td>1393</td></tr><tr><th>27</th><td>David A. van Leeuwen</td><td>2</td><td>25</td></tr><tr><th>28</th><td>David Anthoff</td><td>38</td><td>205</td></tr><tr><th>29</th><td>David Reiss</td><td>6</td><td>16</td></tr><tr><th>30</th><td>Douglas Bates</td><td>1700</td><td>2087</td></tr><tr><th>&vellip;</th><td>&vellip;</td><td>&vellip;</td><td>&vellip;</td></tr></tbody></table>"
      ],
      "text/latex": [
       "\\begin{tabular}{r|ccc}\n",
       "\t& author & deletion & insertion\\\\\n",
       "\t\\hline\n",
       "\t& String & Int64⍰ & Int64⍰\\\\\n",
       "\t\\hline\n",
       "\t1 & Adam Labadorf & 1 & 1 \\\\\n",
       "\t2 & Alain Lichnewsky & 1 & 1 \\\\\n",
       "\t3 & AlainLich & 1 & 1 \\\\\n",
       "\t4 & Alex Arslan & 1112 & 197 \\\\\n",
       "\t5 & Alex Mellnik & 100 & 164 \\\\\n",
       "\t6 & Alexey Stukalov & 466 & 1284 \\\\\n",
       "\t7 & Andreas Noack & 627 & 455 \\\\\n",
       "\t8 & Andreas Noack Jensen & 67 & 212 \\\\\n",
       "\t9 & Andy Ferris & 3 & 4 \\\\\n",
       "\t10 & Andy Hayden & 13 & 14 \\\\\n",
       "\t11 & AndyGreenwell & 1 & 1 \\\\\n",
       "\t12 & Antonello Lobianco & 2 & 2 \\\\\n",
       "\t13 & Asbjørn Nilsen Riseth & 2 & 2 \\\\\n",
       "\t14 & Ben Peirce & 4 & 7 \\\\\n",
       "\t15 & Benjamin Cherian & 1 & 1 \\\\\n",
       "\t16 & Bogumił Kamiński & 9104 & 12717 \\\\\n",
       "\t17 & C Chan &  & 7 \\\\\n",
       "\t18 & Cameron Prybol & 73847 & 3486 \\\\\n",
       "\t19 & Chris DuBois & 432 & 993 \\\\\n",
       "\t20 & Christian Goldammer & 411 & 427 \\\\\n",
       "\t21 & Christof Stocker & 1 & 2 \\\\\n",
       "\t22 & Curtis Vogt & 34 & 57 \\\\\n",
       "\t23 & Cédric St-Jean &  & 10 \\\\\n",
       "\t24 & Dahua Lin & 26 & 28 \\\\\n",
       "\t25 & Daniel Jones & 13 & 28 \\\\\n",
       "\t26 & Dave Kleinschmidt & 328 & 1393 \\\\\n",
       "\t27 & David A. van Leeuwen & 2 & 25 \\\\\n",
       "\t28 & David Anthoff & 38 & 205 \\\\\n",
       "\t29 & David Reiss & 6 & 16 \\\\\n",
       "\t30 & Douglas Bates & 1700 & 2087 \\\\\n",
       "\t$\\dots$ & $\\dots$ & $\\dots$ & $\\dots$ \\\\\n",
       "\\end{tabular}\n"
      ],
      "text/plain": [
       "150×3 DataFrame\n",
       "│ Row │ author               │ deletion │ insertion │\n",
       "│     │ \u001b[90mString\u001b[39m               │ \u001b[90mInt64⍰\u001b[39m   │ \u001b[90mInt64⍰\u001b[39m    │\n",
       "├─────┼──────────────────────┼──────────┼───────────┤\n",
       "│ 1   │ Adam Labadorf        │ 1        │ 1         │\n",
       "│ 2   │ Alain Lichnewsky     │ 1        │ 1         │\n",
       "│ 3   │ AlainLich            │ 1        │ 1         │\n",
       "│ 4   │ Alex Arslan          │ 1112     │ 197       │\n",
       "│ 5   │ Alex Mellnik         │ 100      │ 164       │\n",
       "│ 6   │ Alexey Stukalov      │ 466      │ 1284      │\n",
       "│ 7   │ Andreas Noack        │ 627      │ 455       │\n",
       "│ 8   │ Andreas Noack Jensen │ 67       │ 212       │\n",
       "│ 9   │ Andy Ferris          │ 3        │ 4         │\n",
       "│ 10  │ Andy Hayden          │ 13       │ 14        │\n",
       "⋮\n",
       "│ 140 │ milktrader           │ 260      │ 260       │\n",
       "│ 141 │ pdeffebach           │ 631      │ 499       │\n",
       "│ 142 │ petershintech        │ 10       │ 18        │\n",
       "│ 143 │ quinnj               │ 1604     │ 1757      │\n",
       "│ 144 │ rofinn               │ 81       │ 58        │\n",
       "│ 145 │ ssirai               │ 2        │ \u001b[90mmissing\u001b[39m   │\n",
       "│ 146 │ statuser             │ 1        │ 1         │\n",
       "│ 147 │ tan                  │ 41       │ 809       │\n",
       "│ 148 │ timema               │ 6        │ 12        │\n",
       "│ 149 │ timholy              │ 1        │ 1         │\n",
       "│ 150 │ tshort               │ 326      │ 267       │"
      ]
     },
     "execution_count": 8,
     "metadata": {},
     "output_type": "execute_result"
    }
   ],
   "source": [
    "df = unstack(authorstats, :action, :count)"
   ]
  },
  {
   "cell_type": "code",
   "execution_count": 9,
   "metadata": {},
   "outputs": [
    {
     "data": {
      "text/plain": [
       "150-element Array{Int64,1}:\n",
       "    2\n",
       "    2\n",
       "    2\n",
       " 1309\n",
       "  264\n",
       " 1750\n",
       " 1082\n",
       "  279\n",
       "    7\n",
       "   27\n",
       "    2\n",
       "    4\n",
       "    4\n",
       "    ⋮\n",
       "  140\n",
       "  520\n",
       " 1130\n",
       "   28\n",
       " 3361\n",
       "  139\n",
       "    2\n",
       "    2\n",
       "  850\n",
       "   18\n",
       "    2\n",
       "  593"
      ]
     },
     "execution_count": 9,
     "metadata": {},
     "output_type": "execute_result"
    }
   ],
   "source": [
    "df.all = coalesce.(df.deletion, 0) .+ coalesce.(df.insertion, 0)"
   ]
  },
  {
   "cell_type": "code",
   "execution_count": 10,
   "metadata": {},
   "outputs": [
    {
     "data": {
      "text/html": [
       "<table class=\"data-frame\"><thead><tr><th></th><th>author</th><th>deletion</th><th>insertion</th><th>all</th></tr><tr><th></th><th>String</th><th>Int64⍰</th><th>Int64⍰</th><th>Int64</th></tr></thead><tbody><p>150 rows × 4 columns</p><tr><th>1</th><td>John Myles White</td><td>31288</td><td>105657</td><td>136945</td></tr><tr><th>2</th><td>Cameron Prybol</td><td>73847</td><td>3486</td><td>77333</td></tr><tr><th>3</th><td>Tom Short</td><td>10039</td><td>12975</td><td>23014</td></tr><tr><th>4</th><td>Bogumił Kamiński</td><td>9104</td><td>12717</td><td>21821</td></tr><tr><th>5</th><td>Milan Bouchet-Valat</td><td>8765</td><td>9720</td><td>18485</td></tr><tr><th>6</th><td>Sean Garborg</td><td>9991</td><td>4008</td><td>13999</td></tr><tr><th>7</th><td>Harlan Harris</td><td>1898</td><td>4514</td><td>6412</td></tr><tr><th>8</th><td>Douglas Bates</td><td>1700</td><td>2087</td><td>3787</td></tr><tr><th>9</th><td>quinnj</td><td>1604</td><td>1757</td><td>3361</td></tr><tr><th>10</th><td>Simon Kornblith</td><td>1680</td><td>1461</td><td>3141</td></tr><tr><th>11</th><td>garborg</td><td>897</td><td>1325</td><td>2222</td></tr><tr><th>12</th><td>brk00</td><td>188</td><td>1772</td><td>1960</td></tr><tr><th>13</th><td>Kevin Squire</td><td>609</td><td>1291</td><td>1900</td></tr><tr><th>14</th><td>Alexey Stukalov</td><td>466</td><td>1284</td><td>1750</td></tr><tr><th>15</th><td>Dave Kleinschmidt</td><td>328</td><td>1393</td><td>1721</td></tr><tr><th>16</th><td>Chris DuBois</td><td>432</td><td>993</td><td>1425</td></tr><tr><th>17</th><td>Alex Arslan</td><td>1112</td><td>197</td><td>1309</td></tr><tr><th>18</th><td>dreww2</td><td>0</td><td>1194</td><td>1194</td></tr><tr><th>19</th><td>pdeffebach</td><td>631</td><td>499</td><td>1130</td></tr><tr><th>20</th><td>Andreas Noack</td><td>627</td><td>455</td><td>1082</td></tr><tr><th>21</th><td>tan</td><td>41</td><td>809</td><td>850</td></tr><tr><th>22</th><td>Christian Goldammer</td><td>411</td><td>427</td><td>838</td></tr><tr><th>23</th><td>ExpandingMan</td><td>306</td><td>318</td><td>624</td></tr><tr><th>24</th><td>tshort</td><td>326</td><td>267</td><td>593</td></tr><tr><th>25</th><td>milktrader</td><td>260</td><td>260</td><td>520</td></tr><tr><th>26</th><td>Lyndon White</td><td>138</td><td>180</td><td>318</td></tr><tr><th>27</th><td>Geoffrey K. Adams</td><td>3</td><td>311</td><td>314</td></tr><tr><th>28</th><td>Andreas Noack Jensen</td><td>67</td><td>212</td><td>279</td></tr><tr><th>29</th><td>Alex Mellnik</td><td>100</td><td>164</td><td>264</td></tr><tr><th>30</th><td>Gord Stephen</td><td>99</td><td>150</td><td>249</td></tr><tr><th>&vellip;</th><td>&vellip;</td><td>&vellip;</td><td>&vellip;</td><td>&vellip;</td></tr></tbody></table>"
      ],
      "text/latex": [
       "\\begin{tabular}{r|cccc}\n",
       "\t& author & deletion & insertion & all\\\\\n",
       "\t\\hline\n",
       "\t& String & Int64⍰ & Int64⍰ & Int64\\\\\n",
       "\t\\hline\n",
       "\t1 & John Myles White & 31288 & 105657 & 136945 \\\\\n",
       "\t2 & Cameron Prybol & 73847 & 3486 & 77333 \\\\\n",
       "\t3 & Tom Short & 10039 & 12975 & 23014 \\\\\n",
       "\t4 & Bogumił Kamiński & 9104 & 12717 & 21821 \\\\\n",
       "\t5 & Milan Bouchet-Valat & 8765 & 9720 & 18485 \\\\\n",
       "\t6 & Sean Garborg & 9991 & 4008 & 13999 \\\\\n",
       "\t7 & Harlan Harris & 1898 & 4514 & 6412 \\\\\n",
       "\t8 & Douglas Bates & 1700 & 2087 & 3787 \\\\\n",
       "\t9 & quinnj & 1604 & 1757 & 3361 \\\\\n",
       "\t10 & Simon Kornblith & 1680 & 1461 & 3141 \\\\\n",
       "\t11 & garborg & 897 & 1325 & 2222 \\\\\n",
       "\t12 & brk00 & 188 & 1772 & 1960 \\\\\n",
       "\t13 & Kevin Squire & 609 & 1291 & 1900 \\\\\n",
       "\t14 & Alexey Stukalov & 466 & 1284 & 1750 \\\\\n",
       "\t15 & Dave Kleinschmidt & 328 & 1393 & 1721 \\\\\n",
       "\t16 & Chris DuBois & 432 & 993 & 1425 \\\\\n",
       "\t17 & Alex Arslan & 1112 & 197 & 1309 \\\\\n",
       "\t18 & dreww2 & 0 & 1194 & 1194 \\\\\n",
       "\t19 & pdeffebach & 631 & 499 & 1130 \\\\\n",
       "\t20 & Andreas Noack & 627 & 455 & 1082 \\\\\n",
       "\t21 & tan & 41 & 809 & 850 \\\\\n",
       "\t22 & Christian Goldammer & 411 & 427 & 838 \\\\\n",
       "\t23 & ExpandingMan & 306 & 318 & 624 \\\\\n",
       "\t24 & tshort & 326 & 267 & 593 \\\\\n",
       "\t25 & milktrader & 260 & 260 & 520 \\\\\n",
       "\t26 & Lyndon White & 138 & 180 & 318 \\\\\n",
       "\t27 & Geoffrey K. Adams & 3 & 311 & 314 \\\\\n",
       "\t28 & Andreas Noack Jensen & 67 & 212 & 279 \\\\\n",
       "\t29 & Alex Mellnik & 100 & 164 & 264 \\\\\n",
       "\t30 & Gord Stephen & 99 & 150 & 249 \\\\\n",
       "\t$\\dots$ & $\\dots$ & $\\dots$ & $\\dots$ & $\\dots$ \\\\\n",
       "\\end{tabular}\n"
      ],
      "text/plain": [
       "150×4 DataFrame\n",
       "│ Row │ author                 │ deletion │ insertion │ all    │\n",
       "│     │ \u001b[90mString\u001b[39m                 │ \u001b[90mInt64⍰\u001b[39m   │ \u001b[90mInt64⍰\u001b[39m    │ \u001b[90mInt64\u001b[39m  │\n",
       "├─────┼────────────────────────┼──────────┼───────────┼────────┤\n",
       "│ 1   │ John Myles White       │ 31288    │ 105657    │ 136945 │\n",
       "│ 2   │ Cameron Prybol         │ 73847    │ 3486      │ 77333  │\n",
       "│ 3   │ Tom Short              │ 10039    │ 12975     │ 23014  │\n",
       "│ 4   │ Bogumił Kamiński       │ 9104     │ 12717     │ 21821  │\n",
       "│ 5   │ Milan Bouchet-Valat    │ 8765     │ 9720      │ 18485  │\n",
       "│ 6   │ Sean Garborg           │ 9991     │ 4008      │ 13999  │\n",
       "│ 7   │ Harlan Harris          │ 1898     │ 4514      │ 6412   │\n",
       "│ 8   │ Douglas Bates          │ 1700     │ 2087      │ 3787   │\n",
       "│ 9   │ quinnj                 │ 1604     │ 1757      │ 3361   │\n",
       "│ 10  │ Simon Kornblith        │ 1680     │ 1461      │ 3141   │\n",
       "⋮\n",
       "│ 140 │ Jonas Klasen           │ 1        │ 1         │ 2      │\n",
       "│ 141 │ Kenta Sato (佐藤 建太) │ 2        │ \u001b[90mmissing\u001b[39m   │ 2      │\n",
       "│ 142 │ Mike Innes             │ 1        │ 1         │ 2      │\n",
       "│ 143 │ Peter Mancini          │ 1        │ 1         │ 2      │\n",
       "│ 144 │ Tim Lebel              │ 1        │ 1         │ 2      │\n",
       "│ 145 │ Tyler Beason           │ 1        │ 1         │ 2      │\n",
       "│ 146 │ ggggggggg              │ 1        │ 1         │ 2      │\n",
       "│ 147 │ ssirai                 │ 2        │ \u001b[90mmissing\u001b[39m   │ 2      │\n",
       "│ 148 │ statuser               │ 1        │ 1         │ 2      │\n",
       "│ 149 │ timholy                │ 1        │ 1         │ 2      │\n",
       "│ 150 │ fiatflux               │ \u001b[90mmissing\u001b[39m  │ 1         │ 1      │"
      ]
     },
     "execution_count": 10,
     "metadata": {},
     "output_type": "execute_result"
    }
   ],
   "source": [
    "sort!(df, :all, rev=true)"
   ]
  }
 ],
 "metadata": {
  "kernelspec": {
   "display_name": "Julia 1.1.0",
   "language": "julia",
   "name": "julia-1.1"
  },
  "language_info": {
   "file_extension": ".jl",
   "mimetype": "application/julia",
   "name": "julia",
   "version": "1.1.0"
  }
 },
 "nbformat": 4,
 "nbformat_minor": 2
}
