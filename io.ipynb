{
 "cells": [
  {
   "cell_type": "markdown",
   "metadata": {},
   "source": [
    "# Bogumił Kamiński, 2019-03-25"
   ]
  },
  {
   "cell_type": "code",
   "execution_count": 1,
   "metadata": {},
   "outputs": [],
   "source": [
    "using Serialization"
   ]
  },
  {
   "cell_type": "code",
   "execution_count": 2,
   "metadata": {},
   "outputs": [
    {
     "data": {
      "text/plain": [
       "Dict{Int64,String} with 0 entries"
      ]
     },
     "execution_count": 2,
     "metadata": {},
     "output_type": "execute_result"
    }
   ],
   "source": [
    "d = Dict{Int, String}()"
   ]
  },
  {
   "cell_type": "code",
   "execution_count": 3,
   "metadata": {},
   "outputs": [
    {
     "data": {
      "text/plain": [
       "Dict{Int64,String} with 10 entries:\n",
       "  7  => \"7\"\n",
       "  4  => \"4\"\n",
       "  9  => \"9\"\n",
       "  10 => \"10\"\n",
       "  2  => \"2\"\n",
       "  3  => \"3\"\n",
       "  5  => \"5\"\n",
       "  8  => \"8\"\n",
       "  6  => \"6\"\n",
       "  1  => \"1\""
      ]
     },
     "execution_count": 3,
     "metadata": {},
     "output_type": "execute_result"
    }
   ],
   "source": [
    "for i in 1:10\n",
    "    d[i] = string(i)\n",
    "end\n",
    "d"
   ]
  },
  {
   "cell_type": "code",
   "execution_count": 4,
   "metadata": {},
   "outputs": [],
   "source": [
    "serialize(\"d.bin\", d)"
   ]
  },
  {
   "cell_type": "code",
   "execution_count": 5,
   "metadata": {},
   "outputs": [
    {
     "data": {
      "text/plain": [
       "Dict{Int64,String} with 10 entries:\n",
       "  7  => \"7\"\n",
       "  4  => \"4\"\n",
       "  9  => \"9\"\n",
       "  10 => \"10\"\n",
       "  2  => \"2\"\n",
       "  3  => \"3\"\n",
       "  5  => \"5\"\n",
       "  8  => \"8\"\n",
       "  6  => \"6\"\n",
       "  1  => \"1\""
      ]
     },
     "execution_count": 5,
     "metadata": {},
     "output_type": "execute_result"
    }
   ],
   "source": [
    "d2 = deserialize(\"d.bin\")"
   ]
  },
  {
   "cell_type": "code",
   "execution_count": 6,
   "metadata": {},
   "outputs": [],
   "source": [
    "using DelimitedFiles, Random"
   ]
  },
  {
   "cell_type": "code",
   "execution_count": 7,
   "metadata": {},
   "outputs": [
    {
     "data": {
      "text/plain": [
       "10×10 Array{Float64,2}:\n",
       " 0.590845  0.648882   0.950498   …  0.204728   0.431188   0.633427 \n",
       " 0.766797  0.0109059  0.96467       0.932984   0.137658   0.337865 \n",
       " 0.566237  0.066423   0.945775      0.827263   0.60808    0.112987 \n",
       " 0.460085  0.956753   0.789904      0.0992992  0.255054   0.78299  \n",
       " 0.794026  0.646691   0.82116       0.6343     0.498734   0.838042 \n",
       " 0.854147  0.112486   0.0341601  …  0.132715   0.0940369  0.0878598\n",
       " 0.200586  0.276021   0.0945445     0.775194   0.52509    0.386568 \n",
       " 0.298614  0.651664   0.314926      0.869237   0.265511   0.330579 \n",
       " 0.246837  0.0566425  0.12781       0.0396356  0.110096   0.748041 \n",
       " 0.579672  0.842714   0.374187      0.79041    0.834362   0.265595 "
      ]
     },
     "execution_count": 7,
     "metadata": {},
     "output_type": "execute_result"
    }
   ],
   "source": [
    "Random.seed!(1234)\n",
    "x = rand(10, 10)"
   ]
  },
  {
   "cell_type": "code",
   "execution_count": 8,
   "metadata": {},
   "outputs": [],
   "source": [
    "open(\"x.txt\", \"w\") do f\n",
    "    writedlm(f, x)\n",
    "end"
   ]
  },
  {
   "cell_type": "code",
   "execution_count": 9,
   "metadata": {},
   "outputs": [
    {
     "data": {
      "text/plain": [
       "10×10 Array{Float64,2}:\n",
       " 0.590845  0.648882   0.950498   …  0.204728   0.431188   0.633427 \n",
       " 0.766797  0.0109059  0.96467       0.932984   0.137658   0.337865 \n",
       " 0.566237  0.066423   0.945775      0.827263   0.60808    0.112987 \n",
       " 0.460085  0.956753   0.789904      0.0992992  0.255054   0.78299  \n",
       " 0.794026  0.646691   0.82116       0.6343     0.498734   0.838042 \n",
       " 0.854147  0.112486   0.0341601  …  0.132715   0.0940369  0.0878598\n",
       " 0.200586  0.276021   0.0945445     0.775194   0.52509    0.386568 \n",
       " 0.298614  0.651664   0.314926      0.869237   0.265511   0.330579 \n",
       " 0.246837  0.0566425  0.12781       0.0396356  0.110096   0.748041 \n",
       " 0.579672  0.842714   0.374187      0.79041    0.834362   0.265595 "
      ]
     },
     "execution_count": 9,
     "metadata": {},
     "output_type": "execute_result"
    }
   ],
   "source": [
    "x2 = readdlm(\"x.txt\")"
   ]
  },
  {
   "cell_type": "code",
   "execution_count": 10,
   "metadata": {},
   "outputs": [
    {
     "name": "stderr",
     "output_type": "stream",
     "text": [
      "┌ Info: Recompiling stale cache file C:\\Users\\bogum\\.julia\\compiled\\v1.1\\CSV\\HHBkp.ji for CSV [336ed68f-0bac-5ca0-87d4-7b16caf5d00b]\n",
      "└ @ Base loading.jl:1184\n"
     ]
    }
   ],
   "source": [
    "using DataFrames, CSV"
   ]
  },
  {
   "cell_type": "code",
   "execution_count": 11,
   "metadata": {},
   "outputs": [
    {
     "data": {
      "text/html": [
       "<table class=\"data-frame\"><thead><tr><th></th><th>SepalLength</th><th>SepalWidth</th><th>PetalLength</th><th>PetalWidth</th><th>Species</th></tr><tr><th></th><th>Float64⍰</th><th>Float64⍰</th><th>Float64⍰</th><th>Float64⍰</th><th>String⍰</th></tr></thead><tbody><p>150 rows × 5 columns</p><tr><th>1</th><td>5.1</td><td>3.5</td><td>1.4</td><td>0.2</td><td>Iris-setosa</td></tr><tr><th>2</th><td>4.9</td><td>3.0</td><td>1.4</td><td>0.2</td><td>Iris-setosa</td></tr><tr><th>3</th><td>4.7</td><td>3.2</td><td>1.3</td><td>0.2</td><td>Iris-setosa</td></tr><tr><th>4</th><td>4.6</td><td>3.1</td><td>1.5</td><td>0.2</td><td>Iris-setosa</td></tr><tr><th>5</th><td>5.0</td><td>3.6</td><td>1.4</td><td>0.2</td><td>Iris-setosa</td></tr><tr><th>6</th><td>5.4</td><td>3.9</td><td>1.7</td><td>0.4</td><td>Iris-setosa</td></tr><tr><th>7</th><td>4.6</td><td>3.4</td><td>1.4</td><td>0.3</td><td>Iris-setosa</td></tr><tr><th>8</th><td>5.0</td><td>3.4</td><td>1.5</td><td>0.2</td><td>Iris-setosa</td></tr><tr><th>9</th><td>4.4</td><td>2.9</td><td>1.4</td><td>0.2</td><td>Iris-setosa</td></tr><tr><th>10</th><td>4.9</td><td>3.1</td><td>1.5</td><td>0.1</td><td>Iris-setosa</td></tr><tr><th>11</th><td>5.4</td><td>3.7</td><td>1.5</td><td>0.2</td><td>Iris-setosa</td></tr><tr><th>12</th><td>4.8</td><td>3.4</td><td>1.6</td><td>0.2</td><td>Iris-setosa</td></tr><tr><th>13</th><td>4.8</td><td>3.0</td><td>1.4</td><td>0.1</td><td>Iris-setosa</td></tr><tr><th>14</th><td>4.3</td><td>3.0</td><td>1.1</td><td>0.1</td><td>Iris-setosa</td></tr><tr><th>15</th><td>5.8</td><td>4.0</td><td>1.2</td><td>0.2</td><td>Iris-setosa</td></tr><tr><th>16</th><td>5.7</td><td>4.4</td><td>1.5</td><td>0.4</td><td>Iris-setosa</td></tr><tr><th>17</th><td>5.4</td><td>3.9</td><td>1.3</td><td>0.4</td><td>Iris-setosa</td></tr><tr><th>18</th><td>5.1</td><td>3.5</td><td>1.4</td><td>0.3</td><td>Iris-setosa</td></tr><tr><th>19</th><td>5.7</td><td>3.8</td><td>1.7</td><td>0.3</td><td>Iris-setosa</td></tr><tr><th>20</th><td>5.1</td><td>3.8</td><td>1.5</td><td>0.3</td><td>Iris-setosa</td></tr><tr><th>21</th><td>5.4</td><td>3.4</td><td>1.7</td><td>0.2</td><td>Iris-setosa</td></tr><tr><th>22</th><td>5.1</td><td>3.7</td><td>1.5</td><td>0.4</td><td>Iris-setosa</td></tr><tr><th>23</th><td>4.6</td><td>3.6</td><td>1.0</td><td>0.2</td><td>Iris-setosa</td></tr><tr><th>24</th><td>5.1</td><td>3.3</td><td>1.7</td><td>0.5</td><td>Iris-setosa</td></tr><tr><th>25</th><td>4.8</td><td>3.4</td><td>1.9</td><td>0.2</td><td>Iris-setosa</td></tr><tr><th>26</th><td>5.0</td><td>3.0</td><td>1.6</td><td>0.2</td><td>Iris-setosa</td></tr><tr><th>27</th><td>5.0</td><td>3.4</td><td>1.6</td><td>0.4</td><td>Iris-setosa</td></tr><tr><th>28</th><td>5.2</td><td>3.5</td><td>1.5</td><td>0.2</td><td>Iris-setosa</td></tr><tr><th>29</th><td>5.2</td><td>3.4</td><td>1.4</td><td>0.2</td><td>Iris-setosa</td></tr><tr><th>30</th><td>4.7</td><td>3.2</td><td>1.6</td><td>0.2</td><td>Iris-setosa</td></tr><tr><th>&vellip;</th><td>&vellip;</td><td>&vellip;</td><td>&vellip;</td><td>&vellip;</td><td>&vellip;</td></tr></tbody></table>"
      ],
      "text/latex": [
       "\\begin{tabular}{r|ccccc}\n",
       "\t& SepalLength & SepalWidth & PetalLength & PetalWidth & Species\\\\\n",
       "\t\\hline\n",
       "\t& Float64⍰ & Float64⍰ & Float64⍰ & Float64⍰ & String⍰\\\\\n",
       "\t\\hline\n",
       "\t1 & 5.1 & 3.5 & 1.4 & 0.2 & Iris-setosa \\\\\n",
       "\t2 & 4.9 & 3.0 & 1.4 & 0.2 & Iris-setosa \\\\\n",
       "\t3 & 4.7 & 3.2 & 1.3 & 0.2 & Iris-setosa \\\\\n",
       "\t4 & 4.6 & 3.1 & 1.5 & 0.2 & Iris-setosa \\\\\n",
       "\t5 & 5.0 & 3.6 & 1.4 & 0.2 & Iris-setosa \\\\\n",
       "\t6 & 5.4 & 3.9 & 1.7 & 0.4 & Iris-setosa \\\\\n",
       "\t7 & 4.6 & 3.4 & 1.4 & 0.3 & Iris-setosa \\\\\n",
       "\t8 & 5.0 & 3.4 & 1.5 & 0.2 & Iris-setosa \\\\\n",
       "\t9 & 4.4 & 2.9 & 1.4 & 0.2 & Iris-setosa \\\\\n",
       "\t10 & 4.9 & 3.1 & 1.5 & 0.1 & Iris-setosa \\\\\n",
       "\t11 & 5.4 & 3.7 & 1.5 & 0.2 & Iris-setosa \\\\\n",
       "\t12 & 4.8 & 3.4 & 1.6 & 0.2 & Iris-setosa \\\\\n",
       "\t13 & 4.8 & 3.0 & 1.4 & 0.1 & Iris-setosa \\\\\n",
       "\t14 & 4.3 & 3.0 & 1.1 & 0.1 & Iris-setosa \\\\\n",
       "\t15 & 5.8 & 4.0 & 1.2 & 0.2 & Iris-setosa \\\\\n",
       "\t16 & 5.7 & 4.4 & 1.5 & 0.4 & Iris-setosa \\\\\n",
       "\t17 & 5.4 & 3.9 & 1.3 & 0.4 & Iris-setosa \\\\\n",
       "\t18 & 5.1 & 3.5 & 1.4 & 0.3 & Iris-setosa \\\\\n",
       "\t19 & 5.7 & 3.8 & 1.7 & 0.3 & Iris-setosa \\\\\n",
       "\t20 & 5.1 & 3.8 & 1.5 & 0.3 & Iris-setosa \\\\\n",
       "\t21 & 5.4 & 3.4 & 1.7 & 0.2 & Iris-setosa \\\\\n",
       "\t22 & 5.1 & 3.7 & 1.5 & 0.4 & Iris-setosa \\\\\n",
       "\t23 & 4.6 & 3.6 & 1.0 & 0.2 & Iris-setosa \\\\\n",
       "\t24 & 5.1 & 3.3 & 1.7 & 0.5 & Iris-setosa \\\\\n",
       "\t25 & 4.8 & 3.4 & 1.9 & 0.2 & Iris-setosa \\\\\n",
       "\t26 & 5.0 & 3.0 & 1.6 & 0.2 & Iris-setosa \\\\\n",
       "\t27 & 5.0 & 3.4 & 1.6 & 0.4 & Iris-setosa \\\\\n",
       "\t28 & 5.2 & 3.5 & 1.5 & 0.2 & Iris-setosa \\\\\n",
       "\t29 & 5.2 & 3.4 & 1.4 & 0.2 & Iris-setosa \\\\\n",
       "\t30 & 4.7 & 3.2 & 1.6 & 0.2 & Iris-setosa \\\\\n",
       "\t$\\dots$ & $\\dots$ & $\\dots$ & $\\dots$ & $\\dots$ & $\\dots$ \\\\\n",
       "\\end{tabular}\n"
      ],
      "text/plain": [
       "150×5 DataFrame\n",
       "│ Row │ SepalLength │ SepalWidth │ PetalLength │ PetalWidth │ Species        │\n",
       "│     │ \u001b[90mFloat64⍰\u001b[39m    │ \u001b[90mFloat64⍰\u001b[39m   │ \u001b[90mFloat64⍰\u001b[39m    │ \u001b[90mFloat64⍰\u001b[39m   │ \u001b[90mString⍰\u001b[39m        │\n",
       "├─────┼─────────────┼────────────┼─────────────┼────────────┼────────────────┤\n",
       "│ 1   │ 5.1         │ 3.5        │ 1.4         │ 0.2        │ Iris-setosa    │\n",
       "│ 2   │ 4.9         │ 3.0        │ 1.4         │ 0.2        │ Iris-setosa    │\n",
       "│ 3   │ 4.7         │ 3.2        │ 1.3         │ 0.2        │ Iris-setosa    │\n",
       "│ 4   │ 4.6         │ 3.1        │ 1.5         │ 0.2        │ Iris-setosa    │\n",
       "│ 5   │ 5.0         │ 3.6        │ 1.4         │ 0.2        │ Iris-setosa    │\n",
       "│ 6   │ 5.4         │ 3.9        │ 1.7         │ 0.4        │ Iris-setosa    │\n",
       "│ 7   │ 4.6         │ 3.4        │ 1.4         │ 0.3        │ Iris-setosa    │\n",
       "│ 8   │ 5.0         │ 3.4        │ 1.5         │ 0.2        │ Iris-setosa    │\n",
       "│ 9   │ 4.4         │ 2.9        │ 1.4         │ 0.2        │ Iris-setosa    │\n",
       "│ 10  │ 4.9         │ 3.1        │ 1.5         │ 0.1        │ Iris-setosa    │\n",
       "⋮\n",
       "│ 140 │ 6.9         │ 3.1        │ 5.4         │ 2.1        │ Iris-virginica │\n",
       "│ 141 │ 6.7         │ 3.1        │ 5.6         │ 2.4        │ Iris-virginica │\n",
       "│ 142 │ 6.9         │ 3.1        │ 5.1         │ 2.3        │ Iris-virginica │\n",
       "│ 143 │ 5.8         │ 2.7        │ 5.1         │ 1.9        │ Iris-virginica │\n",
       "│ 144 │ 6.8         │ 3.2        │ 5.9         │ 2.3        │ Iris-virginica │\n",
       "│ 145 │ 6.7         │ 3.3        │ 5.7         │ 2.5        │ Iris-virginica │\n",
       "│ 146 │ 6.7         │ 3.0        │ 5.2         │ 2.3        │ Iris-virginica │\n",
       "│ 147 │ 6.3         │ 2.5        │ 5.0         │ 1.9        │ Iris-virginica │\n",
       "│ 148 │ 6.5         │ 3.0        │ 5.2         │ 2.0        │ Iris-virginica │\n",
       "│ 149 │ 6.2         │ 3.4        │ 5.4         │ 2.3        │ Iris-virginica │\n",
       "│ 150 │ 5.9         │ 3.0        │ 5.1         │ 1.8        │ Iris-virginica │"
      ]
     },
     "execution_count": 11,
     "metadata": {},
     "output_type": "execute_result"
    }
   ],
   "source": [
    "df = CSV.read(\"iris.csv\")"
   ]
  },
  {
   "cell_type": "code",
   "execution_count": 12,
   "metadata": {},
   "outputs": [
    {
     "data": {
      "text/html": [
       "<table class=\"data-frame\"><thead><tr><th></th><th>variable</th><th>mean</th><th>min</th><th>median</th><th>max</th><th>nunique</th><th>nmissing</th><th>eltype</th></tr><tr><th></th><th>Symbol</th><th>Union…</th><th>Any</th><th>Union…</th><th>Any</th><th>Union…</th><th>Int64</th><th>DataType</th></tr></thead><tbody><p>5 rows × 8 columns</p><tr><th>1</th><td>SepalLength</td><td>5.84333</td><td>4.3</td><td>5.8</td><td>7.9</td><td></td><td>0</td><td>Float64</td></tr><tr><th>2</th><td>SepalWidth</td><td>3.054</td><td>2.0</td><td>3.0</td><td>4.4</td><td></td><td>0</td><td>Float64</td></tr><tr><th>3</th><td>PetalLength</td><td>3.75867</td><td>1.0</td><td>4.35</td><td>6.9</td><td></td><td>0</td><td>Float64</td></tr><tr><th>4</th><td>PetalWidth</td><td>1.19867</td><td>0.1</td><td>1.3</td><td>2.5</td><td></td><td>0</td><td>Float64</td></tr><tr><th>5</th><td>Species</td><td></td><td>Iris-setosa</td><td></td><td>Iris-virginica</td><td>3</td><td>0</td><td>String</td></tr></tbody></table>"
      ],
      "text/latex": [
       "\\begin{tabular}{r|cccccccc}\n",
       "\t& variable & mean & min & median & max & nunique & nmissing & eltype\\\\\n",
       "\t\\hline\n",
       "\t& Symbol & Union… & Any & Union… & Any & Union… & Int64 & DataType\\\\\n",
       "\t\\hline\n",
       "\t1 & SepalLength & 5.84333 & 4.3 & 5.8 & 7.9 &  & 0 & Float64 \\\\\n",
       "\t2 & SepalWidth & 3.054 & 2.0 & 3.0 & 4.4 &  & 0 & Float64 \\\\\n",
       "\t3 & PetalLength & 3.75867 & 1.0 & 4.35 & 6.9 &  & 0 & Float64 \\\\\n",
       "\t4 & PetalWidth & 1.19867 & 0.1 & 1.3 & 2.5 &  & 0 & Float64 \\\\\n",
       "\t5 & Species &  & Iris-setosa &  & Iris-virginica & 3 & 0 & String \\\\\n",
       "\\end{tabular}\n"
      ],
      "text/plain": [
       "5×8 DataFrame. Omitted printing of 3 columns\n",
       "│ Row │ variable    │ mean    │ min         │ median │ max            │\n",
       "│     │ \u001b[90mSymbol\u001b[39m      │ \u001b[90mUnion…\u001b[39m  │ \u001b[90mAny\u001b[39m         │ \u001b[90mUnion…\u001b[39m │ \u001b[90mAny\u001b[39m            │\n",
       "├─────┼─────────────┼─────────┼─────────────┼────────┼────────────────┤\n",
       "│ 1   │ SepalLength │ 5.84333 │ 4.3         │ 5.8    │ 7.9            │\n",
       "│ 2   │ SepalWidth  │ 3.054   │ 2.0         │ 3.0    │ 4.4            │\n",
       "│ 3   │ PetalLength │ 3.75867 │ 1.0         │ 4.35   │ 6.9            │\n",
       "│ 4   │ PetalWidth  │ 1.19867 │ 0.1         │ 1.3    │ 2.5            │\n",
       "│ 5   │ Species     │         │ Iris-setosa │        │ Iris-virginica │"
      ]
     },
     "execution_count": 12,
     "metadata": {},
     "output_type": "execute_result"
    }
   ],
   "source": [
    "describe(df)"
   ]
  },
  {
   "cell_type": "code",
   "execution_count": 13,
   "metadata": {},
   "outputs": [
    {
     "data": {
      "text/html": [
       "<table class=\"data-frame\"><thead><tr><th></th><th>variable</th><th>value</th><th>Species</th></tr><tr><th></th><th>Symbol</th><th>Float64⍰</th><th>String⍰</th></tr></thead><tbody><p>600 rows × 3 columns</p><tr><th>1</th><td>SepalLength</td><td>5.1</td><td>Iris-setosa</td></tr><tr><th>2</th><td>SepalLength</td><td>4.9</td><td>Iris-setosa</td></tr><tr><th>3</th><td>SepalLength</td><td>4.7</td><td>Iris-setosa</td></tr><tr><th>4</th><td>SepalLength</td><td>4.6</td><td>Iris-setosa</td></tr><tr><th>5</th><td>SepalLength</td><td>5.0</td><td>Iris-setosa</td></tr><tr><th>6</th><td>SepalLength</td><td>5.4</td><td>Iris-setosa</td></tr><tr><th>7</th><td>SepalLength</td><td>4.6</td><td>Iris-setosa</td></tr><tr><th>8</th><td>SepalLength</td><td>5.0</td><td>Iris-setosa</td></tr><tr><th>9</th><td>SepalLength</td><td>4.4</td><td>Iris-setosa</td></tr><tr><th>10</th><td>SepalLength</td><td>4.9</td><td>Iris-setosa</td></tr><tr><th>11</th><td>SepalLength</td><td>5.4</td><td>Iris-setosa</td></tr><tr><th>12</th><td>SepalLength</td><td>4.8</td><td>Iris-setosa</td></tr><tr><th>13</th><td>SepalLength</td><td>4.8</td><td>Iris-setosa</td></tr><tr><th>14</th><td>SepalLength</td><td>4.3</td><td>Iris-setosa</td></tr><tr><th>15</th><td>SepalLength</td><td>5.8</td><td>Iris-setosa</td></tr><tr><th>16</th><td>SepalLength</td><td>5.7</td><td>Iris-setosa</td></tr><tr><th>17</th><td>SepalLength</td><td>5.4</td><td>Iris-setosa</td></tr><tr><th>18</th><td>SepalLength</td><td>5.1</td><td>Iris-setosa</td></tr><tr><th>19</th><td>SepalLength</td><td>5.7</td><td>Iris-setosa</td></tr><tr><th>20</th><td>SepalLength</td><td>5.1</td><td>Iris-setosa</td></tr><tr><th>21</th><td>SepalLength</td><td>5.4</td><td>Iris-setosa</td></tr><tr><th>22</th><td>SepalLength</td><td>5.1</td><td>Iris-setosa</td></tr><tr><th>23</th><td>SepalLength</td><td>4.6</td><td>Iris-setosa</td></tr><tr><th>24</th><td>SepalLength</td><td>5.1</td><td>Iris-setosa</td></tr><tr><th>25</th><td>SepalLength</td><td>4.8</td><td>Iris-setosa</td></tr><tr><th>26</th><td>SepalLength</td><td>5.0</td><td>Iris-setosa</td></tr><tr><th>27</th><td>SepalLength</td><td>5.0</td><td>Iris-setosa</td></tr><tr><th>28</th><td>SepalLength</td><td>5.2</td><td>Iris-setosa</td></tr><tr><th>29</th><td>SepalLength</td><td>5.2</td><td>Iris-setosa</td></tr><tr><th>30</th><td>SepalLength</td><td>4.7</td><td>Iris-setosa</td></tr><tr><th>&vellip;</th><td>&vellip;</td><td>&vellip;</td><td>&vellip;</td></tr></tbody></table>"
      ],
      "text/latex": [
       "\\begin{tabular}{r|ccc}\n",
       "\t& variable & value & Species\\\\\n",
       "\t\\hline\n",
       "\t& Symbol & Float64⍰ & String⍰\\\\\n",
       "\t\\hline\n",
       "\t1 & SepalLength & 5.1 & Iris-setosa \\\\\n",
       "\t2 & SepalLength & 4.9 & Iris-setosa \\\\\n",
       "\t3 & SepalLength & 4.7 & Iris-setosa \\\\\n",
       "\t4 & SepalLength & 4.6 & Iris-setosa \\\\\n",
       "\t5 & SepalLength & 5.0 & Iris-setosa \\\\\n",
       "\t6 & SepalLength & 5.4 & Iris-setosa \\\\\n",
       "\t7 & SepalLength & 4.6 & Iris-setosa \\\\\n",
       "\t8 & SepalLength & 5.0 & Iris-setosa \\\\\n",
       "\t9 & SepalLength & 4.4 & Iris-setosa \\\\\n",
       "\t10 & SepalLength & 4.9 & Iris-setosa \\\\\n",
       "\t11 & SepalLength & 5.4 & Iris-setosa \\\\\n",
       "\t12 & SepalLength & 4.8 & Iris-setosa \\\\\n",
       "\t13 & SepalLength & 4.8 & Iris-setosa \\\\\n",
       "\t14 & SepalLength & 4.3 & Iris-setosa \\\\\n",
       "\t15 & SepalLength & 5.8 & Iris-setosa \\\\\n",
       "\t16 & SepalLength & 5.7 & Iris-setosa \\\\\n",
       "\t17 & SepalLength & 5.4 & Iris-setosa \\\\\n",
       "\t18 & SepalLength & 5.1 & Iris-setosa \\\\\n",
       "\t19 & SepalLength & 5.7 & Iris-setosa \\\\\n",
       "\t20 & SepalLength & 5.1 & Iris-setosa \\\\\n",
       "\t21 & SepalLength & 5.4 & Iris-setosa \\\\\n",
       "\t22 & SepalLength & 5.1 & Iris-setosa \\\\\n",
       "\t23 & SepalLength & 4.6 & Iris-setosa \\\\\n",
       "\t24 & SepalLength & 5.1 & Iris-setosa \\\\\n",
       "\t25 & SepalLength & 4.8 & Iris-setosa \\\\\n",
       "\t26 & SepalLength & 5.0 & Iris-setosa \\\\\n",
       "\t27 & SepalLength & 5.0 & Iris-setosa \\\\\n",
       "\t28 & SepalLength & 5.2 & Iris-setosa \\\\\n",
       "\t29 & SepalLength & 5.2 & Iris-setosa \\\\\n",
       "\t30 & SepalLength & 4.7 & Iris-setosa \\\\\n",
       "\t$\\dots$ & $\\dots$ & $\\dots$ & $\\dots$ \\\\\n",
       "\\end{tabular}\n"
      ],
      "text/plain": [
       "600×3 DataFrame\n",
       "│ Row │ variable    │ value    │ Species        │\n",
       "│     │ \u001b[90mSymbol\u001b[39m      │ \u001b[90mFloat64⍰\u001b[39m │ \u001b[90mString⍰\u001b[39m        │\n",
       "├─────┼─────────────┼──────────┼────────────────┤\n",
       "│ 1   │ SepalLength │ 5.1      │ Iris-setosa    │\n",
       "│ 2   │ SepalLength │ 4.9      │ Iris-setosa    │\n",
       "│ 3   │ SepalLength │ 4.7      │ Iris-setosa    │\n",
       "│ 4   │ SepalLength │ 4.6      │ Iris-setosa    │\n",
       "│ 5   │ SepalLength │ 5.0      │ Iris-setosa    │\n",
       "│ 6   │ SepalLength │ 5.4      │ Iris-setosa    │\n",
       "│ 7   │ SepalLength │ 4.6      │ Iris-setosa    │\n",
       "│ 8   │ SepalLength │ 5.0      │ Iris-setosa    │\n",
       "│ 9   │ SepalLength │ 4.4      │ Iris-setosa    │\n",
       "│ 10  │ SepalLength │ 4.9      │ Iris-setosa    │\n",
       "⋮\n",
       "│ 590 │ PetalWidth  │ 2.1      │ Iris-virginica │\n",
       "│ 591 │ PetalWidth  │ 2.4      │ Iris-virginica │\n",
       "│ 592 │ PetalWidth  │ 2.3      │ Iris-virginica │\n",
       "│ 593 │ PetalWidth  │ 1.9      │ Iris-virginica │\n",
       "│ 594 │ PetalWidth  │ 2.3      │ Iris-virginica │\n",
       "│ 595 │ PetalWidth  │ 2.5      │ Iris-virginica │\n",
       "│ 596 │ PetalWidth  │ 2.3      │ Iris-virginica │\n",
       "│ 597 │ PetalWidth  │ 1.9      │ Iris-virginica │\n",
       "│ 598 │ PetalWidth  │ 2.0      │ Iris-virginica │\n",
       "│ 599 │ PetalWidth  │ 2.3      │ Iris-virginica │\n",
       "│ 600 │ PetalWidth  │ 1.8      │ Iris-virginica │"
      ]
     },
     "execution_count": 13,
     "metadata": {},
     "output_type": "execute_result"
    }
   ],
   "source": [
    "df2 = stack(df)"
   ]
  },
  {
   "cell_type": "code",
   "execution_count": 14,
   "metadata": {},
   "outputs": [
    {
     "data": {
      "text/plain": [
       "\"iris2.csv\""
      ]
     },
     "execution_count": 14,
     "metadata": {},
     "output_type": "execute_result"
    }
   ],
   "source": [
    "CSV.write(\"iris2.csv\", df2)"
   ]
  },
  {
   "cell_type": "code",
   "execution_count": 15,
   "metadata": {},
   "outputs": [
    {
     "data": {
      "text/plain": [
       "601-element Array{String,1}:\n",
       " \"variable,value,Species\"       \n",
       " \"SepalLength,5.1,Iris-setosa\"  \n",
       " \"SepalLength,4.9,Iris-setosa\"  \n",
       " \"SepalLength,4.7,Iris-setosa\"  \n",
       " \"SepalLength,4.6,Iris-setosa\"  \n",
       " \"SepalLength,5.0,Iris-setosa\"  \n",
       " \"SepalLength,5.4,Iris-setosa\"  \n",
       " \"SepalLength,4.6,Iris-setosa\"  \n",
       " \"SepalLength,5.0,Iris-setosa\"  \n",
       " \"SepalLength,4.4,Iris-setosa\"  \n",
       " \"SepalLength,4.9,Iris-setosa\"  \n",
       " \"SepalLength,5.4,Iris-setosa\"  \n",
       " \"SepalLength,4.8,Iris-setosa\"  \n",
       " ⋮                              \n",
       " \"PetalWidth,1.8,Iris-virginica\"\n",
       " \"PetalWidth,2.1,Iris-virginica\"\n",
       " \"PetalWidth,2.4,Iris-virginica\"\n",
       " \"PetalWidth,2.3,Iris-virginica\"\n",
       " \"PetalWidth,1.9,Iris-virginica\"\n",
       " \"PetalWidth,2.3,Iris-virginica\"\n",
       " \"PetalWidth,2.5,Iris-virginica\"\n",
       " \"PetalWidth,2.3,Iris-virginica\"\n",
       " \"PetalWidth,1.9,Iris-virginica\"\n",
       " \"PetalWidth,2.0,Iris-virginica\"\n",
       " \"PetalWidth,2.3,Iris-virginica\"\n",
       " \"PetalWidth,1.8,Iris-virginica\""
      ]
     },
     "execution_count": 15,
     "metadata": {},
     "output_type": "execute_result"
    }
   ],
   "source": [
    "readlines(\"iris2.csv\")"
   ]
  }
 ],
 "metadata": {
  "kernelspec": {
   "display_name": "Julia 1.1.0",
   "language": "julia",
   "name": "julia-1.1"
  },
  "language_info": {
   "file_extension": ".jl",
   "mimetype": "application/julia",
   "name": "julia",
   "version": "1.1.0"
  }
 },
 "nbformat": 4,
 "nbformat_minor": 2
}
